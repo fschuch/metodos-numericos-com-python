{
 "cells": [
  {
   "cell_type": "markdown",
   "id": "surgical-enzyme",
   "metadata": {},
   "source": [
    "# Métodos Numéricos em Python"
   ]
  },
  {
   "cell_type": "markdown",
   "id": "typical-screening",
   "metadata": {},
   "source": [
    "## Sumário\n",
    "\n",
    "- [Introdução e revisão sobre conceitos de programação em Python](#Introdução);\n",
    "- [Manipulação de tensores em Python com Numpy](#Manipulação-de-tensores-com-Numpy);\n",
    "- [Produção de gráficos com o pacote Matplotlib](#Produção-de-gráficos-com-o-pacote-Matplotlib);\n",
    "- [Cálculo Diferencial e Integral com Python](##Cálculo-Diferencial-e-Integral-em-Python);\n",
    "- [Resolvendo Equações Diferenciais](#Equações-Diferenciais);\n",
    "- Exemplos de aplicação em Fenômenos de Transporte (próxima aula);"
   ]
  },
  {
   "cell_type": "markdown",
   "id": "lonely-surveillance",
   "metadata": {
    "colab_type": "text",
    "id": "xWip5AS5OehT"
   },
   "source": [
    "## Introdução"
   ]
  },
  {
   "cell_type": "markdown",
   "id": "saving-recipe",
   "metadata": {
    "colab_type": "text",
    "id": "hoOtyRJEOehU"
   },
   "source": [
    "### Sobre o material\n",
    "\n",
    "* O objetivo desta palestra é **introduzir os principais conceitos empregados em programação e Python**, mais especificamente, no contexto interativo da plataforma **Jupyter Notebook**;\n",
    "* Além de demonstrar como  **solucionar problemas em métodos numéricos** por meio de propostas computacionais;\n",
    "* Para tanto, o material inclui uma breve **revisão de conceitos fundamentais** e as principais bibliotecas científicas disponíveis. Para maiores detalhes, **pode-se consultar a documentação disponível** ou mesmo as diversas leituras recomendadas que aparecem no decorrer do texto."
   ]
  },
  {
   "cell_type": "markdown",
   "id": "burning-perspective",
   "metadata": {
    "colab_type": "text",
    "id": "1Imc09KQOehV"
   },
   "source": [
    "### Porque Python?"
   ]
  },
  {
   "cell_type": "markdown",
   "id": "lovely-cancellation",
   "metadata": {
    "colab_type": "text",
    "id": "CGAn5ZvWOehW"
   },
   "source": [
    "<img src=\"https://github.com/fschuch/Python-Transferencia-de-Calor/blob/master/notebook.png?raw=1\">"
   ]
  },
  {
   "cell_type": "markdown",
   "id": "indoor-thumb",
   "metadata": {
    "colab_type": "text",
    "id": "33N69O2MOehX"
   },
   "source": [
    "> Leitura recomendada:\n",
    "> * [10 motivos para você aprender Python](https://www.hostgator.com.br/blog/10-motivos-para-voce-aprender-python/)"
   ]
  },
  {
   "cell_type": "markdown",
   "id": "global-pollution",
   "metadata": {
    "colab_type": "text",
    "id": "AumqKUUhOehX",
    "toc-hr-collapsed": false
   },
   "source": [
    "### Porque Jupyter Notebooks?\n",
    "\n",
    "![jupyter](https://jupyter.org/assets/main-logo.svg  \"jupyter\")\n",
    "\n",
    "* Ferramenta web interativa, grátis e de código aberto;\n",
    "* Exploração de dados. Permite executar o código, ver o que acontece, modificar e repetir, onde temos uma *\"conversa\"* com os dados disponíveis;\n",
    "* Útil para a criação de tutoriais interativos;\n",
    "* Ele fala a nossa língua. Disponível para várias liguagens de programação, como Python, Julia, R, Fortran e muitas outras;\n",
    "* É possível combinar o código com células `Markdown`, para renderizar equações e tabelas, inserir figuras e explicações sobre o código;\n",
    "* Facilmente extensível para diversos formatos (PDF, HTML, $\\LaTeX$ e outros);\n",
    "* Disponível em [jupyter.org](https://jupyter.org), além de:\n",
    "    - Acompanhar a instalação do [Anaconda](https://www.anaconda.com/);\n",
    "    - Ferramenta colaborativa na nuvem com [Google colab](https://colab.research.google.com) ou [binder](https://mybinder.org/)."
   ]
  },
  {
   "cell_type": "markdown",
   "id": "formed-panic",
   "metadata": {},
   "source": [
    "> Leitura recomendada:\n",
    "> - [Mastering Markdown](https://guides.github.com/features/mastering-markdown/)\n",
    "> - [LaTeX/Mathematics](https://en.wikibooks.org/wiki/LaTeX/Mathematics)\n",
    "> - [Why Jupyter is data scientists’ computational notebook of choice](https://www.nature.com/articles/d41586-018-07196-1)\n",
    "> - [Why I write with LaTeX (and why you should too)](https://medium.com/@marko_kovic/why-i-write-with-latex-and-why-you-should-too-ba6a764fadf9)\n",
    "> - [New Developer? You should’ve learned Git yesterday](https://codeburst.io/number-one-piece-of-advice-for-new-developers-ddd08abc8bfa)\n",
    "> - [Jupyter Notebook como uma Poderosa Ferramenta Educacional](https://www.fschuch.com/blog/2021/01/22/jupyter-notebook-como-uma-poderosa-ferramenta-educacional/#formas-de-acessarcompartilhar)"
   ]
  },
  {
   "cell_type": "markdown",
   "id": "controlled-above",
   "metadata": {
    "colab_type": "text",
    "id": "KMHr-02qOeha"
   },
   "source": [
    "## Revisão: Programação em Python\n",
    "\n",
    "As primeiras linhas de código interativas dessa aula (`Shift+Enter` executam o bloco):"
   ]
  },
  {
   "cell_type": "code",
   "execution_count": 1,
   "id": "accredited-sense",
   "metadata": {
    "colab": {},
    "colab_type": "code",
    "id": "yq7eFbnlOehb"
   },
   "outputs": [
    {
     "name": "stdout",
     "output_type": "stream",
     "text": [
      "Olá mundo\n"
     ]
    }
   ],
   "source": [
    "\"\"\"\n",
    "Isso é um comentário\n",
    "\"\"\"\n",
    "\n",
    "print(\"Olá mundo\")\n",
    "\n",
    "# Isso também é um comentário"
   ]
  },
  {
   "cell_type": "markdown",
   "id": "indoor-balance",
   "metadata": {
    "colab_type": "text",
    "id": "i4wlPN_kOehf"
   },
   "source": [
    "### Declarando variáveis:"
   ]
  },
  {
   "cell_type": "code",
   "execution_count": 2,
   "id": "confident-european",
   "metadata": {
    "colab": {},
    "colab_type": "code",
    "id": "s8dPgPbMOehg"
   },
   "outputs": [],
   "source": [
    "i = 5  # inteiro\n",
    "f = 6.7  # ponto flutuante\n",
    "g = 1e-2  # notação exponencial\n",
    "s = \"abcdef\"  # string\n",
    "c = 5.0 + 6j  # complexo"
   ]
  },
  {
   "cell_type": "markdown",
   "id": "effective-expert",
   "metadata": {},
   "source": [
    "**Dica:** Use uma ou mais underlines `_` como separadoras de milhar, para deixar seu código mais legível:"
   ]
  },
  {
   "cell_type": "code",
   "execution_count": 3,
   "id": "green-charity",
   "metadata": {},
   "outputs": [],
   "source": [
    "milhão = 1000000\n",
    "milhão = 1_000_000"
   ]
  },
  {
   "cell_type": "markdown",
   "id": "quality-evolution",
   "metadata": {
    "colab_type": "text",
    "id": "Kx2K9v7bOehk"
   },
   "source": [
    "### Operações matemáticas"
   ]
  },
  {
   "cell_type": "markdown",
   "id": "overhead-navigator",
   "metadata": {},
   "source": [
    "Operador | Descrição | Exemplo | Resultado\n",
    "---------|-----------|---------|----------\n",
    "`+`   | Soma   | `1 + 1` | `2`\n",
    "`-`   | Subtração | `2 - 1` | `1`\n",
    "`*`   | Multiplicação | `6 * 7` | `42`\n",
    "`/`   | Divisão | `8 / 4` | 2.0\n",
    "`//`  | Divisão inteira | `10 // 3` | 3\n",
    "`%`   | Resto da divisão | `10 % 3` | 1\n",
    "`**`  | Potência | `2 ** 3` | 8"
   ]
  },
  {
   "cell_type": "markdown",
   "id": "smaller-sigma",
   "metadata": {},
   "source": [
    "Teste qualquer uma das operações no bloco abaixo:"
   ]
  },
  {
   "cell_type": "code",
   "execution_count": null,
   "id": "technological-implementation",
   "metadata": {
    "colab": {},
    "colab_type": "code",
    "id": "aACxizWxOehl"
   },
   "outputs": [],
   "source": []
  },
  {
   "cell_type": "markdown",
   "id": "injured-earth",
   "metadata": {},
   "source": [
    "### Operações em laços\n",
    "\n",
    "Computadores são ótimos para a realização de tarefas repetitivas. Para isso, temos à nossa disposição laços (ou *loops*), que geralmente percorrem um espaço definido pelo seu valor inicial, valor final, e o tamanho do incremento. Veja o exemplo:"
   ]
  },
  {
   "cell_type": "code",
   "execution_count": 4,
   "id": "floating-structure",
   "metadata": {},
   "outputs": [
    {
     "name": "stdout",
     "output_type": "stream",
     "text": [
      "0\n",
      "1\n",
      "2\n",
      "3\n",
      "4\n"
     ]
    }
   ],
   "source": [
    "inicio = 0  # opcional, será zero se não informado\n",
    "final = 5\n",
    "incremento = 1  # opcional, será um se não informado\n",
    "\n",
    "for i in range(inicio, final, incremento):\n",
    "    print(i)\n",
    "    # Aqui realizaríamos operações da nossa aplicação"
   ]
  },
  {
   "cell_type": "markdown",
   "id": "academic-agent",
   "metadata": {},
   "source": [
    "**Nota**: Não precisamos indicar o final do laço em Python, porque isso é reconhecido por meio da identação.\n",
    "\n",
    "**Outra Nota:** sempre que precisar de ajuda para compreender qualquer objeto no Jupyter, digite seu nome seguido de uma interrogação `?`, veja só:"
   ]
  },
  {
   "cell_type": "code",
   "execution_count": 5,
   "id": "annoying-merit",
   "metadata": {},
   "outputs": [
    {
     "data": {
      "text/plain": [
       "\u001b[1;31mInit signature:\u001b[0m \u001b[0mrange\u001b[0m\u001b[1;33m(\u001b[0m\u001b[0mself\u001b[0m\u001b[1;33m,\u001b[0m \u001b[1;33m/\u001b[0m\u001b[1;33m,\u001b[0m \u001b[1;33m*\u001b[0m\u001b[0margs\u001b[0m\u001b[1;33m,\u001b[0m \u001b[1;33m**\u001b[0m\u001b[0mkwargs\u001b[0m\u001b[1;33m)\u001b[0m\u001b[1;33m\u001b[0m\u001b[1;33m\u001b[0m\u001b[0m\n",
       "\u001b[1;31mDocstring:\u001b[0m     \n",
       "range(stop) -> range object\n",
       "range(start, stop[, step]) -> range object\n",
       "\n",
       "Return an object that produces a sequence of integers from start (inclusive)\n",
       "to stop (exclusive) by step.  range(i, j) produces i, i+1, i+2, ..., j-1.\n",
       "start defaults to 0, and stop is omitted!  range(4) produces 0, 1, 2, 3.\n",
       "These are exactly the valid indices for a list of 4 elements.\n",
       "When step is given, it specifies the increment (or decrement).\n",
       "\u001b[1;31mType:\u001b[0m           type\n",
       "\u001b[1;31mSubclasses:\u001b[0m     \n"
      ]
     },
     "metadata": {},
     "output_type": "display_data"
    }
   ],
   "source": [
    "range?"
   ]
  },
  {
   "cell_type": "markdown",
   "id": "curious-serve",
   "metadata": {},
   "source": [
    "Observe que, em Python:\n",
    "* **A contagem começa em zero**;\n",
    "* **O argumento inicial é inclusivo** (ele estará no espaço a percorrer);\n",
    "* Enquanto **o argumento final é exclusivo** (ele não estará no espaço a percorrer).\n",
    "\n",
    "Compreenda melhor esses conceitos com exemplos:"
   ]
  },
  {
   "cell_type": "code",
   "execution_count": 6,
   "id": "electric-studio",
   "metadata": {},
   "outputs": [
    {
     "data": {
      "text/plain": [
       "[0, 1, 2, 3, 4, 5, 6, 7, 8, 9]"
      ]
     },
     "execution_count": 6,
     "metadata": {},
     "output_type": "execute_result"
    }
   ],
   "source": [
    "list(range(10))"
   ]
  },
  {
   "cell_type": "code",
   "execution_count": 7,
   "id": "occupied-australia",
   "metadata": {},
   "outputs": [
    {
     "data": {
      "text/plain": [
       "[0, 1, 2, 3, 4, 5, 6, 7, 8, 9]"
      ]
     },
     "execution_count": 7,
     "metadata": {},
     "output_type": "execute_result"
    }
   ],
   "source": [
    "list(range(0, 10, 1))"
   ]
  },
  {
   "cell_type": "code",
   "execution_count": 8,
   "id": "apparent-advocacy",
   "metadata": {},
   "outputs": [
    {
     "data": {
      "text/plain": [
       "[0, 5, 10, 15, 20, 25]"
      ]
     },
     "execution_count": 8,
     "metadata": {},
     "output_type": "execute_result"
    }
   ],
   "source": [
    "list(range(0, 30, 5))"
   ]
  },
  {
   "cell_type": "code",
   "execution_count": 9,
   "id": "apart-oasis",
   "metadata": {},
   "outputs": [
    {
     "data": {
      "text/plain": [
       "[0, 3, 6, 9]"
      ]
     },
     "execution_count": 9,
     "metadata": {},
     "output_type": "execute_result"
    }
   ],
   "source": [
    "list(range(0, 10, 3))"
   ]
  },
  {
   "cell_type": "code",
   "execution_count": 10,
   "id": "harmful-conflict",
   "metadata": {},
   "outputs": [
    {
     "data": {
      "text/plain": [
       "[0, -1, -2, -3, -4, -5, -6, -7, -8, -9]"
      ]
     },
     "execution_count": 10,
     "metadata": {},
     "output_type": "execute_result"
    }
   ],
   "source": [
    "list(range(0, -10, -1))"
   ]
  },
  {
   "cell_type": "code",
   "execution_count": 11,
   "id": "satellite-exhaust",
   "metadata": {},
   "outputs": [
    {
     "data": {
      "text/plain": [
       "[]"
      ]
     },
     "execution_count": 11,
     "metadata": {},
     "output_type": "execute_result"
    }
   ],
   "source": [
    "list(range(0))"
   ]
  },
  {
   "cell_type": "markdown",
   "id": "rotary-interference",
   "metadata": {},
   "source": [
    "**Nota**: Perceba que `range` é apenas uma das diferentes possibilidades que temos para contruir um laço em Python."
   ]
  },
  {
   "cell_type": "markdown",
   "id": "organic-ghana",
   "metadata": {
    "colab_type": "text",
    "id": "EjPM3SmAOehy"
   },
   "source": [
    "### Testes lógicos\n",
    "\n",
    "Operador | Descrição | Exemplo | Resultado\n",
    "---------|-----------|---------|----------\n",
    "`==`     | Igualdade | `1 == 2` | `False`\n",
    "`!=`     | Diferença | `1 != 2` | `True`\n",
    "`>`      | Maior que | `1 > 3` | `False`\n",
    "`<`      | Menor que | `1 < 3` | `True`\n",
    "`>=`     | Maior ou igual que | `1 >= 3` | `False`\n",
    "`=<`     | Menor ou igual que | `1 <= 3` | `True`\n",
    "`and`    | Operador lógico \"e\" | `True and False` | `False`\n",
    "`or`     | Operador lógico \"ou\" | `True or False` | `True`\n",
    "`not`    | Operador lógico \"não\" | `not False` | `True`"
   ]
  },
  {
   "cell_type": "markdown",
   "id": "pursuant-devil",
   "metadata": {},
   "source": [
    "Teste operações lógicas:"
   ]
  },
  {
   "cell_type": "code",
   "execution_count": 12,
   "id": "joint-noise",
   "metadata": {},
   "outputs": [
    {
     "name": "stdout",
     "output_type": "stream",
     "text": [
      "Estou no bloco elif\n"
     ]
    }
   ],
   "source": [
    "if 5 <= 3.0:\n",
    "    # Aqui realizaríamos operações da nossa aplicação\n",
    "    print(\"Estou no bloco if\")\n",
    "elif 4 != 0:\n",
    "    # Aqui realizaríamos operações da nossa aplicação\n",
    "    print(\"Estou no bloco elif\")\n",
    "else:\n",
    "    # Aqui realizaríamos operações da nossa aplicação\n",
    "    print(\"estou no blobo else\")"
   ]
  },
  {
   "cell_type": "markdown",
   "id": "wrong-assumption",
   "metadata": {
    "tags": []
   },
   "source": [
    "### Estruturas de Dados\n",
    "\n",
    "#### Listas\n",
    "\n",
    "Listas são estruturas *built-in* em Python, elas são mutáveis (novos itens podem ser adicionados, ou os itens contidos podem ser removidos ou alterados), os dados podem ser heterogêneos (diferentes tipos). Veja os exemplos:"
   ]
  },
  {
   "cell_type": "code",
   "execution_count": 13,
   "id": "informational-brush",
   "metadata": {},
   "outputs": [
    {
     "data": {
      "text/plain": [
       "[]"
      ]
     },
     "execution_count": 13,
     "metadata": {},
     "output_type": "execute_result"
    }
   ],
   "source": [
    "minha_lista = list()  # Cria uma lista vazia\n",
    "minha_lista = []  # Cria uma lista vazia\n",
    "\n",
    "# Exibe na tela\n",
    "minha_lista"
   ]
  },
  {
   "cell_type": "markdown",
   "id": "biblical-citizenship",
   "metadata": {},
   "source": [
    "Uma das vantagens de se usar estruturas como listas, é que podemos facilmente percorrer seus diversos elementos com um laço:"
   ]
  },
  {
   "cell_type": "code",
   "execution_count": 14,
   "id": "processed-villa",
   "metadata": {},
   "outputs": [
    {
     "name": "stdout",
     "output_type": "stream",
     "text": [
      "4\n",
      "6.7\n",
      "0.01\n",
      "abcdef\n",
      "(5+6j)\n"
     ]
    }
   ],
   "source": [
    "minha_lista = [i, f, g, s, c]  # Cria uma lista com valores definidos anteriormente\n",
    "\n",
    "# Percorremos cada elemento em um laço\n",
    "for valor in minha_lista:\n",
    "    print(valor)"
   ]
  },
  {
   "cell_type": "markdown",
   "id": "uniform-official",
   "metadata": {},
   "source": [
    "Ou testar se algum dado elemento está contido na estrutura:"
   ]
  },
  {
   "cell_type": "code",
   "execution_count": 15,
   "id": "processed-accuracy",
   "metadata": {},
   "outputs": [],
   "source": [
    "# Testamos se um elemento está na lista\n",
    "if 5 in minha_lista:\n",
    "    print(\"Estou no bloco if\")"
   ]
  },
  {
   "cell_type": "markdown",
   "id": "appointed-latino",
   "metadata": {},
   "source": [
    "A seleção de elementos ocorre pelo número pela contagem de sua localização, começando a contagem em zero. Vale notar que valores negativos retornam elementos contando a partir do final da lista, assim, `-1` retornará o último elemento, `-2` o penúltimo, e assim por diantes. Veja só:"
   ]
  },
  {
   "cell_type": "code",
   "execution_count": 16,
   "id": "developmental-watershed",
   "metadata": {},
   "outputs": [
    {
     "name": "stdout",
     "output_type": "stream",
     "text": [
      "4 0.01 (5+6j)\n"
     ]
    }
   ],
   "source": [
    "print(minha_lista[0], minha_lista[2], minha_lista[-1])"
   ]
  },
  {
   "cell_type": "markdown",
   "id": "residential-insertion",
   "metadata": {},
   "source": [
    "Exemplos de uma mistura de diferentes tipos da dados, incluindo aninhamento de listas"
   ]
  },
  {
   "cell_type": "code",
   "execution_count": 17,
   "id": "eligible-transcription",
   "metadata": {},
   "outputs": [
    {
     "data": {
      "text/plain": [
       "[10,\n",
       " 200000.0,\n",
       " 20.5,\n",
       " Type help() for interactive help, or help(object) for help about object.,\n",
       " 'sou uma frase',\n",
       " (5+6j),\n",
       " [0, 1, 2, 3, 4]]"
      ]
     },
     "execution_count": 17,
     "metadata": {},
     "output_type": "execute_result"
    }
   ],
   "source": [
    "minha_outra_lista = [10, 2e5, 20.5, help, \"sou uma frase\", 5.0 + 6j, list(range(5))]\n",
    "\n",
    "# Exibe na tela\n",
    "minha_outra_lista"
   ]
  },
  {
   "cell_type": "markdown",
   "id": "ready-diabetes",
   "metadata": {},
   "source": [
    "Selecionamos os elementos da mesma maneira, incluindo diversos níveis de aninhamento:"
   ]
  },
  {
   "cell_type": "code",
   "execution_count": 18,
   "id": "hybrid-discount",
   "metadata": {},
   "outputs": [
    {
     "data": {
      "text/plain": [
       "2"
      ]
     },
     "execution_count": 18,
     "metadata": {},
     "output_type": "execute_result"
    }
   ],
   "source": [
    "minha_outra_lista[-1][2]"
   ]
  },
  {
   "cell_type": "markdown",
   "id": "robust-minister",
   "metadata": {},
   "source": [
    "Sempre que quiser saber quais métodos estão disponíveis para um dado objeto em Python, usa a função `dir`:"
   ]
  },
  {
   "cell_type": "code",
   "execution_count": 19,
   "id": "gross-address",
   "metadata": {},
   "outputs": [
    {
     "data": {
      "text/plain": [
       "['__add__',\n",
       " '__class__',\n",
       " '__contains__',\n",
       " '__delattr__',\n",
       " '__delitem__',\n",
       " '__dir__',\n",
       " '__doc__',\n",
       " '__eq__',\n",
       " '__format__',\n",
       " '__ge__',\n",
       " '__getattribute__',\n",
       " '__getitem__',\n",
       " '__gt__',\n",
       " '__hash__',\n",
       " '__iadd__',\n",
       " '__imul__',\n",
       " '__init__',\n",
       " '__init_subclass__',\n",
       " '__iter__',\n",
       " '__le__',\n",
       " '__len__',\n",
       " '__lt__',\n",
       " '__mul__',\n",
       " '__ne__',\n",
       " '__new__',\n",
       " '__reduce__',\n",
       " '__reduce_ex__',\n",
       " '__repr__',\n",
       " '__reversed__',\n",
       " '__rmul__',\n",
       " '__setattr__',\n",
       " '__setitem__',\n",
       " '__sizeof__',\n",
       " '__str__',\n",
       " '__subclasshook__',\n",
       " 'append',\n",
       " 'clear',\n",
       " 'copy',\n",
       " 'count',\n",
       " 'extend',\n",
       " 'index',\n",
       " 'insert',\n",
       " 'pop',\n",
       " 'remove',\n",
       " 'reverse',\n",
       " 'sort']"
      ]
     },
     "execution_count": 19,
     "metadata": {},
     "output_type": "execute_result"
    }
   ],
   "source": [
    "# A função dir retorna os atributos de um dado objeto em Python\n",
    "dir(list)"
   ]
  },
  {
   "cell_type": "markdown",
   "id": "bored-space",
   "metadata": {},
   "source": [
    "Os métodos que começam e terminam com a underline dupla `__<nome>__` são por definição privados na linguagem, mas todos os outros estão à sua disposição. Sempre que quiser saber mais sobre algum deles, use a função `help`:"
   ]
  },
  {
   "cell_type": "code",
   "execution_count": 20,
   "id": "recovered-court",
   "metadata": {},
   "outputs": [
    {
     "name": "stdout",
     "output_type": "stream",
     "text": [
      "Help on method_descriptor:\n",
      "\n",
      "append(self, object, /)\n",
      "    Append object to the end of the list.\n",
      "\n"
     ]
    }
   ],
   "source": [
    "# A função help retorna a documentação de qualquer objeto Python\n",
    "help(list.append)"
   ]
  },
  {
   "cell_type": "markdown",
   "id": "skilled-domestic",
   "metadata": {},
   "source": [
    "O operador de adição na verdade concatena as listas da linguagem:"
   ]
  },
  {
   "cell_type": "code",
   "execution_count": 21,
   "id": "contrary-selection",
   "metadata": {},
   "outputs": [
    {
     "data": {
      "text/plain": [
       "[4,\n",
       " 6.7,\n",
       " 0.01,\n",
       " 'abcdef',\n",
       " (5+6j),\n",
       " 10,\n",
       " 200000.0,\n",
       " 20.5,\n",
       " Type help() for interactive help, or help(object) for help about object.,\n",
       " 'sou uma frase',\n",
       " (5+6j),\n",
       " [0, 1, 2, 3, 4]]"
      ]
     },
     "execution_count": 21,
     "metadata": {},
     "output_type": "execute_result"
    }
   ],
   "source": [
    "minha_lista + minha_outra_lista"
   ]
  },
  {
   "cell_type": "markdown",
   "id": "modular-carolina",
   "metadata": {},
   "source": [
    "#### Dicionários\n",
    "\n",
    "\n",
    "Ao contrário das sequências, que são indexadas por um intervalo de números, **os dicionários são indexados por chaves (*keys*)**, que podem ser de qualquer tipo imutável; como *strings* ou números.\n",
    "\n",
    "É melhor pensar em um dicionário como um conjunto de pares `key: value`, com a exigência de que as chaves sejam **exclusivas** (dentro de um dicionário).\n",
    "\n",
    "As operações principais em um dicionário estão armazenando um valor com alguma chave e extraindo o valor dado a chave. Também é possível excluir um par `key: value` com `del`. **Se você armazenar usando uma chave que já está em uso, o valor antigo associado a essa chave será esquecido**. Um erro é obtido ao extrair um valor usando uma chave inexistente.\n",
    "\n",
    "A execução de `list()` em um dicionário retorna uma lista de todas as chaves usadas no dicionário, em ordem de inserção (se você quiser classificá-las, use apenas `sorted()`). Para verificar se uma única chave está no dicionário, use a palavra-chave `in`."
   ]
  },
  {
   "cell_type": "code",
   "execution_count": 22,
   "id": "forbidden-handbook",
   "metadata": {},
   "outputs": [
    {
     "data": {
      "text/plain": [
       "{'Leonardo': 'azul',\n",
       " 'Michelangelo': 'laranja',\n",
       " 'Donatello': 'roxo',\n",
       " 'Raphael': 'vermelho'}"
      ]
     },
     "execution_count": 22,
     "metadata": {},
     "output_type": "execute_result"
    }
   ],
   "source": [
    "tartaruga = {\n",
    "    \"Leonardo\": \"azul\",\n",
    "    \"Michelangelo\": \"laranja\",\n",
    "    \"Donatello\": \"roxo\",\n",
    "    \"Raphael\": \"vermelho\",\n",
    "}\n",
    "\n",
    "# exibe na tela\n",
    "tartaruga"
   ]
  },
  {
   "cell_type": "markdown",
   "id": "buried-charles",
   "metadata": {},
   "source": [
    "Agora acessamos cada um dos elementos pela sua chave, ao invés de simples números inteiros, e nesse caso a chave é o nome de cada indivíduo. Veja a sintaxe:"
   ]
  },
  {
   "cell_type": "code",
   "execution_count": 23,
   "id": "isolated-literature",
   "metadata": {},
   "outputs": [
    {
     "data": {
      "text/plain": [
       "'azul'"
      ]
     },
     "execution_count": 23,
     "metadata": {},
     "output_type": "execute_result"
    }
   ],
   "source": [
    "tartaruga[\"Leonardo\"]"
   ]
  },
  {
   "cell_type": "markdown",
   "id": "german-correlation",
   "metadata": {},
   "source": [
    "Ou o equivalente:"
   ]
  },
  {
   "cell_type": "code",
   "execution_count": 24,
   "id": "instant-appendix",
   "metadata": {},
   "outputs": [
    {
     "data": {
      "text/plain": [
       "'azul'"
      ]
     },
     "execution_count": 24,
     "metadata": {},
     "output_type": "execute_result"
    }
   ],
   "source": [
    "tartaruga.get(\"Leonardo\")"
   ]
  },
  {
   "cell_type": "code",
   "execution_count": 25,
   "id": "apparent-clause",
   "metadata": {},
   "outputs": [
    {
     "name": "stdout",
     "output_type": "stream",
     "text": [
      "Leonardo azul\n",
      "Michelangelo laranja\n",
      "Donatello roxo\n",
      "Raphael vermelho\n"
     ]
    }
   ],
   "source": [
    "for chave, valor in tartaruga.items():\n",
    "    print(chave, valor)"
   ]
  },
  {
   "cell_type": "markdown",
   "id": "opening-characteristic",
   "metadata": {},
   "source": [
    "### Funções"
   ]
  },
  {
   "cell_type": "markdown",
   "id": "variable-timber",
   "metadata": {},
   "source": [
    "Funções são uma forma de encapsular trechos de código que você porventura queira executar diversas vezes. Argumentos são parâmetros opcionais de entrada, que podem alterar ou controlar o comportamento no interior da função. E elas podem ou não retornar algum valor.\n",
    "\n",
    "No bloco a seguir, definimos um exemplo didático. Uma função que testa se um dado número de entrada é ímpar, retornando `True`, ou não, retornando `False`. Veja o exemplo:"
   ]
  },
  {
   "cell_type": "code",
   "execution_count": 26,
   "id": "inclusive-alert",
   "metadata": {},
   "outputs": [],
   "source": [
    "def testa_se_impar(numero):\n",
    "    # Testamos se um elemento está na lista\n",
    "    return bool(numero % 2)"
   ]
  },
  {
   "cell_type": "markdown",
   "id": "fiscal-strategy",
   "metadata": {},
   "source": [
    "Agora invocamos e testamos a nossa função:"
   ]
  },
  {
   "cell_type": "code",
   "execution_count": 27,
   "id": "boxed-stick",
   "metadata": {},
   "outputs": [
    {
     "data": {
      "text/plain": [
       "False"
      ]
     },
     "execution_count": 27,
     "metadata": {},
     "output_type": "execute_result"
    }
   ],
   "source": [
    "testa_se_impar(4)"
   ]
  },
  {
   "cell_type": "code",
   "execution_count": 28,
   "id": "logical-ordering",
   "metadata": {},
   "outputs": [
    {
     "data": {
      "text/plain": [
       "True"
      ]
     },
     "execution_count": 28,
     "metadata": {},
     "output_type": "execute_result"
    }
   ],
   "source": [
    "testa_se_impar(5)"
   ]
  },
  {
   "cell_type": "markdown",
   "id": "organized-calibration",
   "metadata": {},
   "source": [
    "Podemos incrementar a apresentação de nossa função com recursos extras. Por exemplo, atribuir valores padrões aos argumentos, caso eles não sejam informados ao invocar a função. Além disso temos o *type hint*, ou uma dica do tipo, onde podemos anotar na função a tipagem dos argumentos de entrada e saída, para auxiliar quem estiver utilizando nossa função. Finalmente, o comentário inicial é conhecido como *Docstring*, o lugar ideal para uma documentação rápida, que também estará disponível para nossos usuários:"
   ]
  },
  {
   "cell_type": "code",
   "execution_count": 29,
   "id": "painted-threat",
   "metadata": {},
   "outputs": [],
   "source": [
    "def testa_se_impar_v2(numero: int = 0) -> bool:\n",
    "    \"\"\"\n",
    "    Dado um número inteiro como argumento de entrada,\n",
    "    retorna True se ele é ímpar e False se ele é par\n",
    "    \"\"\"\n",
    "    return bool(numero % 2)"
   ]
  },
  {
   "cell_type": "markdown",
   "id": "favorite-navigation",
   "metadata": {},
   "source": [
    "Quando invocada sem argumentos, número será o valor definido como padrão, zero nesse caso, então a função é executada sem erros:"
   ]
  },
  {
   "cell_type": "code",
   "execution_count": 30,
   "id": "direct-carpet",
   "metadata": {},
   "outputs": [
    {
     "data": {
      "text/plain": [
       "False"
      ]
     },
     "execution_count": 30,
     "metadata": {},
     "output_type": "execute_result"
    }
   ],
   "source": [
    "testa_se_impar_v2()"
   ]
  },
  {
   "cell_type": "markdown",
   "id": "computational-arbitration",
   "metadata": {},
   "source": [
    "O nome dos argumentos podem estar presentes na chamada, oferecendo legibilidade extra ao seu código:"
   ]
  },
  {
   "cell_type": "code",
   "execution_count": 31,
   "id": "expensive-killing",
   "metadata": {},
   "outputs": [
    {
     "data": {
      "text/plain": [
       "True"
      ]
     },
     "execution_count": 31,
     "metadata": {},
     "output_type": "execute_result"
    }
   ],
   "source": [
    "testa_se_impar_v2(numero=67)"
   ]
  },
  {
   "cell_type": "markdown",
   "id": "infinite-helena",
   "metadata": {},
   "source": [
    "Note que o *Docstring* é exibido na tela quando solicitamos ajuda:"
   ]
  },
  {
   "cell_type": "code",
   "execution_count": 32,
   "id": "domestic-diploma",
   "metadata": {},
   "outputs": [
    {
     "data": {
      "text/plain": [
       "\u001b[1;31mSignature:\u001b[0m \u001b[0mtesta_se_impar_v2\u001b[0m\u001b[1;33m(\u001b[0m\u001b[0mnumero\u001b[0m\u001b[1;33m:\u001b[0m \u001b[0mint\u001b[0m \u001b[1;33m=\u001b[0m \u001b[1;36m0\u001b[0m\u001b[1;33m)\u001b[0m \u001b[1;33m->\u001b[0m \u001b[0mbool\u001b[0m\u001b[1;33m\u001b[0m\u001b[1;33m\u001b[0m\u001b[0m\n",
       "\u001b[1;31mDocstring:\u001b[0m\n",
       "Dado um número inteiro como argumento de entrada,\n",
       "retorna True se ele é ímpar e False se ele é par\n",
       "\u001b[1;31mFile:\u001b[0m      c:\\users\\felip\\documents\\github\\metodos-numericos-com-python\\aulas\\<ipython-input-29-a69b5118e9b1>\n",
       "\u001b[1;31mType:\u001b[0m      function\n"
      ]
     },
     "metadata": {},
     "output_type": "display_data"
    }
   ],
   "source": [
    "testa_se_impar_v2?"
   ]
  },
  {
   "cell_type": "markdown",
   "id": "reflected-reputation",
   "metadata": {},
   "source": [
    "### Módulos\n",
    "\n",
    "À medida que seu programa fica mais longo, você pode querer dividi-lo em vários arquivos para **facilitar a manutenção**. Você também pode usar uma função útil que tenha escrito em **vários programas sem copiar sua definição** em cada programa.\n",
    "\n",
    "Para suportar isso, o Python tem uma maneira de colocar as definições em um arquivo e usá-las em um script ou em uma instância interativa do interpretador. **Esse arquivo é chamado de módulo**; As definições de um módulo podem ser importadas para outros módulos ou para o módulo principal."
   ]
  },
  {
   "cell_type": "markdown",
   "id": "efficient-employer",
   "metadata": {},
   "source": [
    "Por exemplo, use seu editor de texto favorito para criar um arquivo chamado `fibo.py` no diretório atual com o seguinte conteúdo:\n",
    "\n",
    "```Python\n",
    "#Módulo dos números de Fibonacci\n",
    "\n",
    "def fib(n):    #escreve a série de Fibonacci até n\n",
    "    a, b = 0, 1\n",
    "    while a < n:\n",
    "        print(a, end=' ')\n",
    "        a, b = b, a+b\n",
    "    print()\n",
    "\n",
    "def fib2(n):   # retorna a série de Fibonacci até n\n",
    "    result = []\n",
    "    a, b = 0, 1\n",
    "    while a < n:\n",
    "        result.append(a)\n",
    "        a, b = b, a+b\n",
    "    return result\n",
    "```"
   ]
  },
  {
   "cell_type": "code",
   "execution_count": 33,
   "id": "former-exception",
   "metadata": {
    "slideshow": {
     "slide_type": "subslide"
    },
    "tags": []
   },
   "outputs": [],
   "source": [
    "import fibo"
   ]
  },
  {
   "cell_type": "code",
   "execution_count": 34,
   "id": "comic-blade",
   "metadata": {
    "scrolled": true,
    "slideshow": {
     "slide_type": "fragment"
    }
   },
   "outputs": [
    {
     "name": "stdout",
     "output_type": "stream",
     "text": [
      "0 1 1 2 3 5 8 13 21 34 55 89 144 233 377 610 987 \n"
     ]
    }
   ],
   "source": [
    "fibo.fib(1000)"
   ]
  },
  {
   "cell_type": "code",
   "execution_count": 35,
   "id": "noted-festival",
   "metadata": {
    "slideshow": {
     "slide_type": "fragment"
    }
   },
   "outputs": [
    {
     "data": {
      "text/plain": [
       "[0, 1, 1, 2, 3, 5, 8, 13, 21, 34, 55, 89]"
      ]
     },
     "execution_count": 35,
     "metadata": {},
     "output_type": "execute_result"
    }
   ],
   "source": [
    "fibo.fib2(100)"
   ]
  },
  {
   "cell_type": "markdown",
   "id": "curious-board",
   "metadata": {},
   "source": [
    "## Manipulação de tensores com Numpy"
   ]
  },
  {
   "cell_type": "markdown",
   "id": "resistant-mailing",
   "metadata": {},
   "source": [
    "<img src=\"https://numpy.org/images/logos/numpy.svg\" alt=\"Logotipo do Numpy\" style=\"width: 100px;\"/>\n",
    "\n",
    "Numpy é um pacote fundamental para a **computação científica em Python**. Entre outras coisas, destaca-se:\n",
    "* Objetos em arranjos N-dimensionais (tensores);\n",
    "* Funções tensoriais sofisticadas;\n",
    "* Ferramentas para integrar código C/C++ e Fortran;\n",
    "* Conveniente álgebra linear, transformada de Fourier e capacidade de gerar números aleatórios.\n",
    "\n",
    "Nosso estudo começa ao importar a biblioteca para a nossa aplicação:"
   ]
  },
  {
   "cell_type": "code",
   "execution_count": 36,
   "id": "endless-tract",
   "metadata": {},
   "outputs": [],
   "source": [
    "import numpy as np  # Importando a biblioteca numpy e definindo-a com o codnome de np"
   ]
  },
  {
   "cell_type": "code",
   "execution_count": 37,
   "id": "occupational-friend",
   "metadata": {},
   "outputs": [
    {
     "data": {
      "text/plain": [
       "array([[ 0,  1,  2,  3,  4],\n",
       "       [ 5,  6,  7,  8,  9],\n",
       "       [10, 11, 12, 13, 14]])"
      ]
     },
     "execution_count": 37,
     "metadata": {},
     "output_type": "execute_result"
    }
   ],
   "source": [
    "matriz = np.arange(15).reshape(3, 5)\n",
    "\n",
    "# exibe na tela\n",
    "matriz"
   ]
  },
  {
   "cell_type": "markdown",
   "id": "spare-violation",
   "metadata": {},
   "source": [
    "Esse objeto trás consigo uma série de propriedades que podemos inspecionar:"
   ]
  },
  {
   "cell_type": "code",
   "execution_count": 38,
   "id": "tested-division",
   "metadata": {},
   "outputs": [
    {
     "data": {
      "text/plain": [
       "(3, 5)"
      ]
     },
     "execution_count": 38,
     "metadata": {},
     "output_type": "execute_result"
    }
   ],
   "source": [
    "matriz.shape"
   ]
  },
  {
   "cell_type": "code",
   "execution_count": 39,
   "id": "considered-tonight",
   "metadata": {},
   "outputs": [
    {
     "data": {
      "text/plain": [
       "2"
      ]
     },
     "execution_count": 39,
     "metadata": {},
     "output_type": "execute_result"
    }
   ],
   "source": [
    "matriz.ndim"
   ]
  },
  {
   "cell_type": "code",
   "execution_count": 40,
   "id": "female-causing",
   "metadata": {},
   "outputs": [
    {
     "data": {
      "text/plain": [
       "'int32'"
      ]
     },
     "execution_count": 40,
     "metadata": {},
     "output_type": "execute_result"
    }
   ],
   "source": [
    "matriz.dtype.name"
   ]
  },
  {
   "cell_type": "code",
   "execution_count": 41,
   "id": "adapted-miniature",
   "metadata": {},
   "outputs": [
    {
     "data": {
      "text/plain": [
       "4"
      ]
     },
     "execution_count": 41,
     "metadata": {},
     "output_type": "execute_result"
    }
   ],
   "source": [
    "matriz.itemsize"
   ]
  },
  {
   "cell_type": "code",
   "execution_count": 42,
   "id": "peaceful-concept",
   "metadata": {},
   "outputs": [
    {
     "data": {
      "text/plain": [
       "15"
      ]
     },
     "execution_count": 42,
     "metadata": {},
     "output_type": "execute_result"
    }
   ],
   "source": [
    "matriz.size"
   ]
  },
  {
   "cell_type": "code",
   "execution_count": 43,
   "id": "premier-breed",
   "metadata": {},
   "outputs": [
    {
     "data": {
      "text/plain": [
       "numpy.ndarray"
      ]
     },
     "execution_count": 43,
     "metadata": {},
     "output_type": "execute_result"
    }
   ],
   "source": [
    "type(matriz)"
   ]
  },
  {
   "cell_type": "markdown",
   "id": "dress-expression",
   "metadata": {},
   "source": [
    "### Construção e Seleção de Dados\n",
    "\n",
    "Existem diversas maneiras de inicializar os objetos tensoriais com Numpy, aqui vemos alguns exemplos:\n",
    "\n",
    "* A partir de uma lista:"
   ]
  },
  {
   "cell_type": "code",
   "execution_count": 44,
   "id": "baking-hello",
   "metadata": {},
   "outputs": [
    {
     "data": {
      "text/plain": [
       "array([2, 3, 4])"
      ]
     },
     "execution_count": 44,
     "metadata": {},
     "output_type": "execute_result"
    }
   ],
   "source": [
    "np.array([2, 3, 4])"
   ]
  },
  {
   "cell_type": "markdown",
   "id": "occupational-auckland",
   "metadata": {},
   "source": [
    "* Ou múltiplas listas:"
   ]
  },
  {
   "cell_type": "code",
   "execution_count": 45,
   "id": "distant-robert",
   "metadata": {},
   "outputs": [
    {
     "data": {
      "text/plain": [
       "array([[1.5, 2. , 3. ],\n",
       "       [4. , 5. , 6. ]])"
      ]
     },
     "execution_count": 45,
     "metadata": {},
     "output_type": "execute_result"
    }
   ],
   "source": [
    "np.array([(1.5, 2, 3), (4, 5, 6)])"
   ]
  },
  {
   "cell_type": "markdown",
   "id": "jewish-mississippi",
   "metadata": {},
   "source": [
    "* Criar matrizes completas com valores iniciais em zero ou um:"
   ]
  },
  {
   "cell_type": "code",
   "execution_count": 46,
   "id": "wanted-designation",
   "metadata": {},
   "outputs": [
    {
     "data": {
      "text/plain": [
       "array([[0., 0., 0., 0.],\n",
       "       [0., 0., 0., 0.],\n",
       "       [0., 0., 0., 0.]])"
      ]
     },
     "execution_count": 46,
     "metadata": {},
     "output_type": "execute_result"
    }
   ],
   "source": [
    "np.zeros(shape=(3, 4))"
   ]
  },
  {
   "cell_type": "code",
   "execution_count": 47,
   "id": "broken-politics",
   "metadata": {},
   "outputs": [
    {
     "data": {
      "text/plain": [
       "array([[[1, 1, 1, 1],\n",
       "        [1, 1, 1, 1],\n",
       "        [1, 1, 1, 1]],\n",
       "\n",
       "       [[1, 1, 1, 1],\n",
       "        [1, 1, 1, 1],\n",
       "        [1, 1, 1, 1]]], dtype=int16)"
      ]
     },
     "execution_count": 47,
     "metadata": {},
     "output_type": "execute_result"
    }
   ],
   "source": [
    "np.ones(shape=(2, 3, 4), dtype=np.int16)"
   ]
  },
  {
   "cell_type": "markdown",
   "id": "informational-preliminary",
   "metadata": {},
   "source": [
    "* Definição inicial de um intervalo, de maneira similar a função `range` do Python:"
   ]
  },
  {
   "cell_type": "code",
   "execution_count": 48,
   "id": "dangerous-foundation",
   "metadata": {},
   "outputs": [
    {
     "data": {
      "text/plain": [
       "array([10, 15, 20, 25])"
      ]
     },
     "execution_count": 48,
     "metadata": {},
     "output_type": "execute_result"
    }
   ],
   "source": [
    "np.arange(10, 30, 5)"
   ]
  },
  {
   "cell_type": "code",
   "execution_count": 49,
   "id": "expensive-partition",
   "metadata": {},
   "outputs": [
    {
     "data": {
      "text/plain": [
       "array([0. , 0.3, 0.6, 0.9, 1.2, 1.5, 1.8])"
      ]
     },
     "execution_count": 49,
     "metadata": {},
     "output_type": "execute_result"
    }
   ],
   "source": [
    "np.arange(0, 2, 0.3)"
   ]
  },
  {
   "cell_type": "markdown",
   "id": "shared-providence",
   "metadata": {},
   "source": [
    "* Ou ainda um espaço linear:"
   ]
  },
  {
   "cell_type": "code",
   "execution_count": 50,
   "id": "legitimate-sodium",
   "metadata": {},
   "outputs": [
    {
     "data": {
      "text/plain": [
       "array([0.  , 0.25, 0.5 , 0.75, 1.  , 1.25, 1.5 , 1.75, 2.  ])"
      ]
     },
     "execution_count": 50,
     "metadata": {},
     "output_type": "execute_result"
    }
   ],
   "source": [
    "vetor = np.linspace(start=0, stop=2, num=9)\n",
    "vetor"
   ]
  },
  {
   "cell_type": "markdown",
   "id": "spread-intervention",
   "metadata": {},
   "source": [
    "A seleção dos dados ocorre de maneira similar às listas, com o número inteiro representando a localização, começando a contagem em zero. Veja os exemplos:"
   ]
  },
  {
   "cell_type": "code",
   "execution_count": 51,
   "id": "directed-lecture",
   "metadata": {},
   "outputs": [
    {
     "data": {
      "text/plain": [
       "0.0"
      ]
     },
     "execution_count": 51,
     "metadata": {},
     "output_type": "execute_result"
    }
   ],
   "source": [
    "vetor[0]"
   ]
  },
  {
   "cell_type": "code",
   "execution_count": 52,
   "id": "future-cathedral",
   "metadata": {},
   "outputs": [
    {
     "data": {
      "text/plain": [
       "0.5"
      ]
     },
     "execution_count": 52,
     "metadata": {},
     "output_type": "execute_result"
    }
   ],
   "source": [
    "vetor[2]"
   ]
  },
  {
   "cell_type": "code",
   "execution_count": 53,
   "id": "official-variation",
   "metadata": {},
   "outputs": [
    {
     "data": {
      "text/plain": [
       "array([0.  , 0.25])"
      ]
     },
     "execution_count": 53,
     "metadata": {},
     "output_type": "execute_result"
    }
   ],
   "source": [
    "vetor[0:2]"
   ]
  },
  {
   "cell_type": "code",
   "execution_count": 54,
   "id": "honey-lender",
   "metadata": {},
   "outputs": [
    {
     "data": {
      "text/plain": [
       "2.0"
      ]
     },
     "execution_count": 54,
     "metadata": {},
     "output_type": "execute_result"
    }
   ],
   "source": [
    "vetor[-1]"
   ]
  },
  {
   "cell_type": "code",
   "execution_count": 55,
   "id": "facial-avenue",
   "metadata": {},
   "outputs": [
    {
     "data": {
      "text/plain": [
       "array([0.5 , 0.75, 1.  , 1.25, 1.5 , 1.75])"
      ]
     },
     "execution_count": 55,
     "metadata": {},
     "output_type": "execute_result"
    }
   ],
   "source": [
    "vetor[2:-1]"
   ]
  },
  {
   "cell_type": "markdown",
   "id": "boxed-workshop",
   "metadata": {},
   "source": [
    "**Cuidado**, pois o sinal de igualdade não cria novas cópias dos tensores, e isso pode confundir os iniciantes:"
   ]
  },
  {
   "cell_type": "code",
   "execution_count": 56,
   "id": "super-bhutan",
   "metadata": {},
   "outputs": [
    {
     "data": {
      "text/plain": [
       "array([0.  , 0.25, 0.5 , 0.75, 1.  , 1.25, 1.5 , 1.75, 2.  ])"
      ]
     },
     "execution_count": 56,
     "metadata": {},
     "output_type": "execute_result"
    }
   ],
   "source": [
    "outro_vetor = vetor\n",
    "outro_vetor"
   ]
  },
  {
   "cell_type": "code",
   "execution_count": 57,
   "id": "opponent-billy",
   "metadata": {},
   "outputs": [
    {
     "data": {
      "text/plain": [
       "True"
      ]
     },
     "execution_count": 57,
     "metadata": {},
     "output_type": "execute_result"
    }
   ],
   "source": [
    "outro_vetor is vetor"
   ]
  },
  {
   "cell_type": "markdown",
   "id": "billion-character",
   "metadata": {},
   "source": [
    "Temos agora duas maneiras de acessar o mesmo vetor na memória, pois tanto `vetor` quanto `outro_vetor` apontam para a mesma posição na memória."
   ]
  },
  {
   "cell_type": "markdown",
   "id": "toxic-balance",
   "metadata": {},
   "source": [
    "### Operações Tensoriais\n",
    "\n",
    "Operações aritméticas e lógicas estão disponíveis para os objetos Numpy, e são propagados para todos os elementos do tensor. Veja os exemplos:"
   ]
  },
  {
   "cell_type": "code",
   "execution_count": 58,
   "id": "answering-addition",
   "metadata": {},
   "outputs": [],
   "source": [
    "a = np.array([20, 30, 40, 50])\n",
    "b = np.array([0, 1, 2, 3])"
   ]
  },
  {
   "cell_type": "code",
   "execution_count": 59,
   "id": "favorite-above",
   "metadata": {},
   "outputs": [
    {
     "data": {
      "text/plain": [
       "array([20, 29, 38, 47])"
      ]
     },
     "execution_count": 59,
     "metadata": {},
     "output_type": "execute_result"
    }
   ],
   "source": [
    "a - b"
   ]
  },
  {
   "cell_type": "code",
   "execution_count": 60,
   "id": "entertaining-helmet",
   "metadata": {},
   "outputs": [
    {
     "data": {
      "text/plain": [
       "array([0, 1, 4, 9], dtype=int32)"
      ]
     },
     "execution_count": 60,
     "metadata": {},
     "output_type": "execute_result"
    }
   ],
   "source": [
    "b ** 2"
   ]
  },
  {
   "cell_type": "code",
   "execution_count": 61,
   "id": "another-idaho",
   "metadata": {},
   "outputs": [
    {
     "data": {
      "text/plain": [
       "array([ 9.12945251, -9.88031624,  7.4511316 , -2.62374854])"
      ]
     },
     "execution_count": 61,
     "metadata": {},
     "output_type": "execute_result"
    }
   ],
   "source": [
    "10 * np.sin(a)"
   ]
  },
  {
   "cell_type": "code",
   "execution_count": 62,
   "id": "amateur-racing",
   "metadata": {},
   "outputs": [
    {
     "data": {
      "text/plain": [
       "array([ True,  True, False, False])"
      ]
     },
     "execution_count": 62,
     "metadata": {},
     "output_type": "execute_result"
    }
   ],
   "source": [
    "a < 35"
   ]
  },
  {
   "cell_type": "markdown",
   "id": "minute-sally",
   "metadata": {},
   "source": [
    "> Leitura recomendada:\n",
    "> * [NumPy Documentation](https://numpy.org/doc/)\n",
    "> * [NumPy quickstart](https://numpy.org/doc/1.20/user/quickstart.html)\n",
    "> * [NumPy: the absolute basics for beginners](https://numpy.org/doc/1.20/user/absolute_beginners.html)\n",
    "> * [Tutorial: Linear algebra on n-dimensional arrays](https://numpy.org/doc/1.20/user/tutorial-svd.html)\n",
    ">\n",
    "> Outros pacotes Python para manipulação de dados:\n",
    "> * [Pandas](https://pandas.pydata.org/) é uma pacote Python especializado na processamento eficiente de dados tabelados, podendo lidar com arquivos CSV, Excel, SQL, arranjos Numpy e outros;\n",
    "> * [Xarray](http://xarray.pydata.org/) introduz rótulos na forma de dimensões, coordenadas e atributos sobre os dados brutos dos arranjos em formato NumPy, permitindo uma experiência de desenvolvimento mais intuitiva, consistente e a prova de falhas;\n",
    "> * [Dask](https://dask.org/) fornece paralelismo avançado para análises, permitindo desempenho em escala para as ferramentas que você adora."
   ]
  },
  {
   "cell_type": "markdown",
   "id": "aging-fellowship",
   "metadata": {},
   "source": [
    "## Produção de gráficos com o pacote Matplotlib"
   ]
  },
  {
   "cell_type": "markdown",
   "id": "smooth-theme",
   "metadata": {},
   "source": [
    "![Matplotlib](https://www.scipy.org/_static/images/matplotlib_med.png \"Matplotlib\")\n",
    "\n",
    "A Matplotlib é uma biblioteca de plotagem 2D do Python, que produz figuras de qualidade de publicação em uma variedade de formatos impressos e ambientes interativos entre plataformas. O Matplotlib pode ser usado em scripts Python, nos shells do Python e do IPython, no notebook Jupyter, nos servidores de aplicativos da web e em quatro kits de ferramentas de interface gráfica do usuário.\n",
    "\n",
    "A **Matplotlib tenta tornar as coisas fáceis simples e as coisas difíceis possíveis**. Você pode gerar gráficos, histogramas, espectros de potência, gráficos de barras, gráficos de erros, diagramas de dispersão, etc., com apenas algumas linhas de código.\n",
    "\n",
    "Como sempre, começamos importando a biblioteca:"
   ]
  },
  {
   "cell_type": "code",
   "execution_count": 63,
   "id": "secondary-category",
   "metadata": {},
   "outputs": [],
   "source": [
    "import matplotlib.pyplot as plt"
   ]
  },
  {
   "cell_type": "markdown",
   "id": "needed-million",
   "metadata": {},
   "source": [
    "O bloco a seguir é opcional, ela vai alterar o estilo padrão de nossas figuras, e aumentar um pouco o seu tamanho, melhorando a apresentação em nossa aula:"
   ]
  },
  {
   "cell_type": "code",
   "execution_count": 64,
   "id": "interested-december",
   "metadata": {},
   "outputs": [],
   "source": [
    "# Definindo um novo estilo para as figuras [opcional]\n",
    "# Esse bloco modifica alguns dos valores padrões para\n",
    "\n",
    "plt.rcdefaults()\n",
    "\n",
    "# https://matplotlib.org/3.1.0/gallery/style_sheets/style_sheets_reference.html\n",
    "plt.style.use(\"ggplot\")\n",
    "\n",
    "# https://matplotlib.org/3.1.1/tutorials/introductory/customizing.html\n",
    "plt.rcParams.update({\"figure.dpi\": 100, \"figure.figsize\": (6, 6)})"
   ]
  },
  {
   "cell_type": "markdown",
   "id": "vietnamese-vegetarian",
   "metadata": {},
   "source": [
    "Agora fazemos nossa primeira figura:"
   ]
  },
  {
   "cell_type": "code",
   "execution_count": 65,
   "id": "crude-level",
   "metadata": {},
   "outputs": [
    {
     "data": {
      "image/png": "[encoded data removed]",
      "text/plain": [
       "<Figure size 600x600 with 1 Axes>"
      ]
     },
     "metadata": {},
     "output_type": "display_data"
    }
   ],
   "source": [
    "x = np.linspace(0, 10, 100)\n",
    "plt.plot(x, np.sin(x));"
   ]
  },
  {
   "cell_type": "markdown",
   "id": "boring-norman",
   "metadata": {},
   "source": [
    "O nome dos eixos são indispensáveis se você quiser mostrar sua figura para terceiros, um título pode ajudar também. Outro exemplo é como podemos definir os limites de cada eixo do gráfico. Veja nossa nova figura:"
   ]
  },
  {
   "cell_type": "code",
   "execution_count": 66,
   "id": "right-consensus",
   "metadata": {},
   "outputs": [
    {
     "data": {
      "image/png": "[encoded data removed]",
      "text/plain": [
       "<Figure size 600x600 with 1 Axes>"
      ]
     },
     "metadata": {},
     "output_type": "display_data"
    }
   ],
   "source": [
    "x = np.linspace(0, 10, 100)\n",
    "plt.plot(x, np.sin(x))\n",
    "\n",
    "plt.xlim([0, 2 * np.pi])\n",
    "plt.ylim([-2, 2])\n",
    "\n",
    "plt.xlabel(\"eixo x\")\n",
    "plt.ylabel(\"eixo y\")\n",
    "\n",
    "plt.title(\"Minha figura\");"
   ]
  },
  {
   "cell_type": "markdown",
   "id": "systematic-setting",
   "metadata": {},
   "source": [
    "E então temos mais exemplos variados:"
   ]
  },
  {
   "cell_type": "code",
   "execution_count": 67,
   "id": "happy-miller",
   "metadata": {},
   "outputs": [
    {
     "data": {
      "image/png": "[encoded data removed]",
      "text/plain": [
       "<Figure size 600x600 with 1 Axes>"
      ]
     },
     "metadata": {},
     "output_type": "display_data"
    }
   ],
   "source": [
    "rng = np.random.RandomState(123)\n",
    "x = rng.normal(size=500)\n",
    "y = rng.normal(size=500)\n",
    "\n",
    "\n",
    "plt.scatter(x, y);"
   ]
  },
  {
   "cell_type": "code",
   "execution_count": 68,
   "id": "upset-vacuum",
   "metadata": {},
   "outputs": [
    {
     "data": {
      "image/png": "[encoded data removed]",
      "text/plain": [
       "<Figure size 600x600 with 1 Axes>"
      ]
     },
     "metadata": {},
     "output_type": "display_data"
    }
   ],
   "source": [
    "rng = np.random.RandomState(123)\n",
    "x1 = rng.normal(0, 20, 1000)\n",
    "x2 = rng.normal(15, 10, 1000)\n",
    "\n",
    "# fixed bin size\n",
    "bins = np.arange(-100, 100, 5)  # fixed bin size\n",
    "\n",
    "plt.hist(x1, bins=bins, alpha=0.5)\n",
    "plt.hist(x2, bins=bins, alpha=0.5);"
   ]
  },
  {
   "cell_type": "code",
   "execution_count": 69,
   "id": "distant-seeking",
   "metadata": {},
   "outputs": [
    {
     "data": {
      "image/png": "[encoded data removed]",
      "text/plain": [
       "<Figure size 600x600 with 6 Axes>"
      ]
     },
     "metadata": {},
     "output_type": "display_data"
    }
   ],
   "source": [
    "x = range(11)\n",
    "y = range(11)\n",
    "\n",
    "fig, ax = plt.subplots(nrows=2, ncols=3, sharex=True, sharey=True)\n",
    "\n",
    "for row in ax:\n",
    "    for col in row:\n",
    "        col.plot(x, y)"
   ]
  },
  {
   "cell_type": "markdown",
   "id": "frank-tuesday",
   "metadata": {},
   "source": [
    "> Leitura recomendada:\n",
    "> * [Matplotlib](https://matplotlib.org/)\n",
    "> * [Style sheets reference](https://matplotlib.org/stable/gallery/style_sheets/style_sheets_reference.html)\n",
    "> * [Gallery](https://matplotlib.org/stable/gallery/index.html)\n",
    "> * [Gráficos com qualidade de publicação em Python com Matplotlib](https://www.fschuch.com/blog/2020/10/14/graficos-com-qualidade-de-publicacao-em-python-com-matplotlib/)"
   ]
  },
  {
   "cell_type": "markdown",
   "id": "junior-broadcast",
   "metadata": {},
   "source": [
    "## Cálculo Diferencial e Integral em Python\n",
    "\n",
    "Nesta seção veremos aplicações de cálculo numérico, como derivação, integração e resolução de equações diferenciais.\n",
    "\n",
    "Para começar, vamos definir a discretização de uma coordenada espacial genérica $x$ indo de $0$ à $2\\pi$ para um total de 51 pontos. Além disso, vamos definir uma função que usaremos como exemplo para os cálculos que virão, que será $\\sin (x)$. Veja o código:"
   ]
  },
  {
   "cell_type": "code",
   "execution_count": 70,
   "id": "sunset-model",
   "metadata": {},
   "outputs": [],
   "source": [
    "coord_x = np.linspace(start=0.0, stop=2.0 * np.pi, num=51)\n",
    "seno_de_x = np.sin(coord_x)"
   ]
  },
  {
   "cell_type": "code",
   "execution_count": 71,
   "id": "successful-marsh",
   "metadata": {},
   "outputs": [
    {
     "data": {
      "text/plain": [
       "array([0.        , 0.12566371, 0.25132741, 0.37699112, 0.50265482,\n",
       "       0.62831853, 0.75398224, 0.87964594, 1.00530965, 1.13097336,\n",
       "       1.25663706, 1.38230077, 1.50796447, 1.63362818, 1.75929189,\n",
       "       1.88495559, 2.0106193 , 2.136283  , 2.26194671, 2.38761042,\n",
       "       2.51327412, 2.63893783, 2.76460154, 2.89026524, 3.01592895,\n",
       "       3.14159265, 3.26725636, 3.39292007, 3.51858377, 3.64424748,\n",
       "       3.76991118, 3.89557489, 4.0212386 , 4.1469023 , 4.27256601,\n",
       "       4.39822972, 4.52389342, 4.64955713, 4.77522083, 4.90088454,\n",
       "       5.02654825, 5.15221195, 5.27787566, 5.40353936, 5.52920307,\n",
       "       5.65486678, 5.78053048, 5.90619419, 6.03185789, 6.1575216 ,\n",
       "       6.28318531])"
      ]
     },
     "execution_count": 71,
     "metadata": {},
     "output_type": "execute_result"
    }
   ],
   "source": [
    "# exibe na tela\n",
    "coord_x"
   ]
  },
  {
   "cell_type": "code",
   "execution_count": 72,
   "id": "roman-direction",
   "metadata": {},
   "outputs": [
    {
     "data": {
      "text/plain": [
       "array([ 0.00000000e+00,  1.25333234e-01,  2.48689887e-01,  3.68124553e-01,\n",
       "        4.81753674e-01,  5.87785252e-01,  6.84547106e-01,  7.70513243e-01,\n",
       "        8.44327926e-01,  9.04827052e-01,  9.51056516e-01,  9.82287251e-01,\n",
       "        9.98026728e-01,  9.98026728e-01,  9.82287251e-01,  9.51056516e-01,\n",
       "        9.04827052e-01,  8.44327926e-01,  7.70513243e-01,  6.84547106e-01,\n",
       "        5.87785252e-01,  4.81753674e-01,  3.68124553e-01,  2.48689887e-01,\n",
       "        1.25333234e-01, -3.21624530e-16, -1.25333234e-01, -2.48689887e-01,\n",
       "       -3.68124553e-01, -4.81753674e-01, -5.87785252e-01, -6.84547106e-01,\n",
       "       -7.70513243e-01, -8.44327926e-01, -9.04827052e-01, -9.51056516e-01,\n",
       "       -9.82287251e-01, -9.98026728e-01, -9.98026728e-01, -9.82287251e-01,\n",
       "       -9.51056516e-01, -9.04827052e-01, -8.44327926e-01, -7.70513243e-01,\n",
       "       -6.84547106e-01, -5.87785252e-01, -4.81753674e-01, -3.68124553e-01,\n",
       "       -2.48689887e-01, -1.25333234e-01, -2.44929360e-16])"
      ]
     },
     "execution_count": 72,
     "metadata": {},
     "output_type": "execute_result"
    }
   ],
   "source": [
    "# exibe na tela\n",
    "seno_de_x"
   ]
  },
  {
   "cell_type": "markdown",
   "id": "yellow-nirvana",
   "metadata": {},
   "source": [
    "Já vimos como fazer gráficos, então vamos aproveitar para ver com o que estamos trabalhando:"
   ]
  },
  {
   "cell_type": "code",
   "execution_count": 73,
   "id": "fifteen-summit",
   "metadata": {},
   "outputs": [
    {
     "data": {
      "image/png": "[encoded data removed]",
      "text/plain": [
       "<Figure size 600x600 with 1 Axes>"
      ]
     },
     "metadata": {},
     "output_type": "display_data"
    }
   ],
   "source": [
    "plt.scatter(coord_x, seno_de_x)\n",
    "plt.xlabel(r\"$x$\")\n",
    "plt.ylabel(r\"$\\sin(x)$\");"
   ]
  },
  {
   "cell_type": "markdown",
   "id": "cheap-ivory",
   "metadata": {},
   "source": [
    "### Diferenciação Numérica"
   ]
  },
  {
   "cell_type": "markdown",
   "id": "multiple-headset",
   "metadata": {},
   "source": [
    "#### Derivada primeira com esquema em diferenças finitas, explícito, centrado e com precisão de O($\\Delta x^2$):\n",
    "\n",
    "\\begin{equation}\n",
    "    \\frac{\\partial f}{\\partial x} = f_i' = \\dfrac{f_{i+1}-f_{i-1}}{2\\Delta x}, ~ \\text{com $1 \\le i \\le n - 2$}\n",
    "\\end{equation}\n",
    "\n",
    "e as condições de contorno descentradas de mesma ordem:\n",
    "\\begin{equation}\n",
    "   f_0' = \\dfrac{-3f_{0} +4f_{1} - 1f_{2}}{2\\Delta x}\n",
    "\\end{equation}\n",
    "\\begin{equation}\n",
    "   f_{n-1}' = \\dfrac{-4f_{n-3} +3f_{n-2} + 3f_{n-1}}{2\\Delta x}\n",
    "\\end{equation}\n",
    "\n",
    "Veja como podemos criar uma função Python que emprege esse esquema em uma malha equidistante:"
   ]
  },
  {
   "cell_type": "code",
   "execution_count": 74,
   "id": "technical-heating",
   "metadata": {},
   "outputs": [],
   "source": [
    "def derivada_primeira_laço(f, x):\n",
    "\n",
    "    dx = (x[-1] - x[0]) / (x.size - 1)\n",
    "    dfdx = np.zeros_like(f)\n",
    "\n",
    "    # Condição de contorno onde i = 0\n",
    "    dfdx[0] = -3.0 * f[0] + 4.0 * f[1] - 1.0 * f[2]\n",
    "\n",
    "    # Núcleo, de 1 à n - 2\n",
    "    for i in range(1, x.size - 1):\n",
    "        dfdx[i] = f[i + 1] - f[i - 1]\n",
    "\n",
    "    # Condição de contorno onde i = n - 1\n",
    "    dfdx[-1] = 1.0 * f[-3] - 4.0 * f[-2] + 3.0 * f[-1]\n",
    "\n",
    "    return dfdx / (2.0 * dx)"
   ]
  },
  {
   "cell_type": "code",
   "execution_count": 75,
   "id": "brazilian-dollar",
   "metadata": {},
   "outputs": [
    {
     "name": "stdout",
     "output_type": "stream",
     "text": [
      "35.5 µs ± 4.99 µs per loop (mean ± std. dev. of 7 runs, 10000 loops each)\n"
     ]
    }
   ],
   "source": [
    "%%timeit\n",
    "seno_de_x_dx = derivada_primeira_laço(seno_de_x, coord_x)"
   ]
  },
  {
   "cell_type": "markdown",
   "id": "elect-pavilion",
   "metadata": {},
   "source": [
    "Preste atenção porem quanto à utilização do laço `for i in range(1, x.size - 1)`, normalmente conseguimos diminuir o tempo de execussão quando deixamos os laços implícitos dentro da notação vetorial de Numpy. Veja o seguinte exemplo equivalente ao código anterior:"
   ]
  },
  {
   "cell_type": "code",
   "execution_count": 76,
   "id": "provincial-level",
   "metadata": {},
   "outputs": [],
   "source": [
    "def derivada_primeira_vetor(f, x):\n",
    "\n",
    "    dx = (x[-1] - x[0]) / (x.size - 1)\n",
    "    dfdx = np.zeros_like(x)\n",
    "\n",
    "    dfdx[0] = -3.0 * f[0] + 4.0 * f[1] - 1.0 * f[2]\n",
    "\n",
    "    dfdx[1:-1] = (\n",
    "        dfdx[:-2] - dfdx[2:]\n",
    "    )  # Note que essa linha faz o mesmo que o laço na função anterior\n",
    "\n",
    "    dfdx[-1] = 1.0 * f[-3] - 4.0 * f[-2] + 3.0 * f[-1]\n",
    "\n",
    "    return dfdx / (2.0 * dx)"
   ]
  },
  {
   "cell_type": "code",
   "execution_count": 77,
   "id": "marine-nerve",
   "metadata": {},
   "outputs": [
    {
     "name": "stdout",
     "output_type": "stream",
     "text": [
      "12.2 µs ± 686 ns per loop (mean ± std. dev. of 7 runs, 100000 loops each)\n"
     ]
    }
   ],
   "source": [
    "%%timeit\n",
    "seno_de_x_dx = derivada_primeira_vetor(seno_de_x, coord_x)"
   ]
  },
  {
   "cell_type": "markdown",
   "id": "deluxe-thriller",
   "metadata": {},
   "source": [
    "Outra posibilidade é expressar o esquema de derivação em notação matricial, tornando evidente a aparição do operador diferencial:"
   ]
  },
  {
   "cell_type": "markdown",
   "id": "vietnamese-ceremony",
   "metadata": {},
   "source": [
    "\\begin{equation}\n",
    "\\begin{split}\n",
    "\\begin{bmatrix} f'_{0} \\\\ f'_{1} \\\\ \\vdots \\\\ f'_{i} \\\\ \\vdots \\\\ f'_{n-2}\\\\ f'_{n-1}\\end{bmatrix} =\n",
    "\\underbrace{\n",
    "\\frac{1}{2 \\Delta x}\n",
    "\\begin{bmatrix}\n",
    "-3 & 4 & -1 & & & & \\\\\n",
    "-1 & 0 & 1 & & \\\\\n",
    " & \\ddots & \\ddots & \\ddots & & & \\\\\n",
    "& & -1 & 0 & 1 & \\\\\n",
    "& & & \\ddots & \\ddots & \\ddots & \\\\\n",
    "& & & & -1 & 0 & 1\\\\\n",
    "& & & & 1 & -4 & 3\n",
    "\\end{bmatrix}\n",
    "}_{D_x = \\text{ Operador diferencial de primeira ordem}}\n",
    "\\begin{bmatrix} f_{0} \\\\ f_{1} \\\\ \\vdots \\\\ f_{i} \\\\ \\vdots \\\\ f_{n-2}\\\\ f_{n-1}\\end{bmatrix}\n",
    "\\\\\n",
    "\\mbox{com $2\\leq i \\leq n -3$}\n",
    "\\end{split}\n",
    "\\end{equation}\n",
    "\n",
    "Obtemos então a diferenciação como o produto vetorial do operador pela função:\n",
    "\n",
    "\\begin{equation}\n",
    "    f' = D_x f\n",
    "\\end{equation}"
   ]
  },
  {
   "cell_type": "code",
   "execution_count": 78,
   "id": "valued-russia",
   "metadata": {},
   "outputs": [],
   "source": [
    "def derivada_primeira_operador(x):\n",
    "\n",
    "    from scipy.sparse import diags\n",
    "\n",
    "    dx = (x[-1] - x[0]) / (x.size - 1)\n",
    "\n",
    "    # Operador diferencial de primeira ordem\n",
    "    Dx = diags(\n",
    "        [-1.0, 0.0, 1.0], offsets=[-1, 0, 1], shape=(x.size, x.size), format=\"lil\",\n",
    "    )\n",
    "\n",
    "    # Condições de contorno\n",
    "    Dx[0, 0], Dx[0, 1], Dx[0, 2] = -3.0, 4.0, -1.0\n",
    "    Dx[-1, -3], Dx[-1, -2], Dx[-1, -1] = 1.0, -4.0, 3.0\n",
    "\n",
    "    return Dx / (2.0 * dx)"
   ]
  },
  {
   "cell_type": "code",
   "execution_count": 79,
   "id": "magnetic-battle",
   "metadata": {},
   "outputs": [
    {
     "data": {
      "text/plain": [
       "array([[-1.5,  2. , -0.5,  0. ,  0. ,  0. ,  0. ,  0. ,  0. ],\n",
       "       [-0.5,  0. ,  0.5,  0. ,  0. ,  0. ,  0. ,  0. ,  0. ],\n",
       "       [ 0. , -0.5,  0. ,  0.5,  0. ,  0. ,  0. ,  0. ,  0. ],\n",
       "       [ 0. ,  0. , -0.5,  0. ,  0.5,  0. ,  0. ,  0. ,  0. ],\n",
       "       [ 0. ,  0. ,  0. , -0.5,  0. ,  0.5,  0. ,  0. ,  0. ],\n",
       "       [ 0. ,  0. ,  0. ,  0. , -0.5,  0. ,  0.5,  0. ,  0. ],\n",
       "       [ 0. ,  0. ,  0. ,  0. ,  0. , -0.5,  0. ,  0.5,  0. ],\n",
       "       [ 0. ,  0. ,  0. ,  0. ,  0. ,  0. , -0.5,  0. ,  0.5],\n",
       "       [ 0. ,  0. ,  0. ,  0. ,  0. ,  0. ,  0.5, -2. ,  1.5]])"
      ]
     },
     "execution_count": 79,
     "metadata": {},
     "output_type": "execute_result"
    }
   ],
   "source": [
    "derivada_primeira_operador(np.arange(9)).toarray()"
   ]
  },
  {
   "cell_type": "code",
   "execution_count": 80,
   "id": "organized-wellington",
   "metadata": {},
   "outputs": [],
   "source": [
    "Dx = derivada_primeira_operador(coord_x)"
   ]
  },
  {
   "cell_type": "code",
   "execution_count": 81,
   "id": "about-brave",
   "metadata": {},
   "outputs": [
    {
     "name": "stdout",
     "output_type": "stream",
     "text": [
      "81.5 µs ± 5.06 µs per loop (mean ± std. dev. of 7 runs, 10000 loops each)\n"
     ]
    }
   ],
   "source": [
    "%%timeit\n",
    "seno_de_x_dx = Dx.dot(seno_de_x)"
   ]
  },
  {
   "cell_type": "markdown",
   "id": "handled-chain",
   "metadata": {},
   "source": [
    "Por fim, o próprio NumPy apresenta um método para a aproximação numérica da derivada primeira,  veja só:"
   ]
  },
  {
   "cell_type": "code",
   "execution_count": 82,
   "id": "printable-semiconductor",
   "metadata": {},
   "outputs": [
    {
     "name": "stdout",
     "output_type": "stream",
     "text": [
      "65.9 µs ± 7.12 µs per loop (mean ± std. dev. of 7 runs, 10000 loops each)\n"
     ]
    }
   ],
   "source": [
    "%%timeit\n",
    "seno_de_x_dx = np.gradient(seno_de_x, coord_x, axis=0)"
   ]
  },
  {
   "cell_type": "markdown",
   "id": "characteristic-freeware",
   "metadata": {},
   "source": [
    "**Nota:** O tempo de execussão de `np.gradient` foi  maior que as outras opções, mas isso não é necessariamente um ponto ruim. A solução NumPy é muito mais flexível que a nossa, podendo funcionar para arranjos n-dimensionais e de espaçamento não uniforme. Isso cria uma sobrecarga inicial que custa algum tempo, mas essa sobrecarga tende a ficar relativamente menos custosa à medida que o tamanho dos tensores aumentam.\n",
    "\n",
    "Vamos agora graficar a solução para referência:"
   ]
  },
  {
   "cell_type": "code",
   "execution_count": 83,
   "id": "functioning-colors",
   "metadata": {},
   "outputs": [
    {
     "data": {
      "image/png": "[encoded data removed]",
      "text/plain": [
       "<Figure size 600x600 with 1 Axes>"
      ]
     },
     "metadata": {},
     "output_type": "display_data"
    }
   ],
   "source": [
    "plt.plot(coord_x, seno_de_x, label=\"f(x)=sin(x)\")\n",
    "plt.plot(coord_x, Dx.dot(seno_de_x), label=r\"$f^\\prime$\")\n",
    "\n",
    "plt.legend()\n",
    "plt.xlabel(\"x\")\n",
    "plt.show()"
   ]
  },
  {
   "cell_type": "markdown",
   "id": "norwegian-plane",
   "metadata": {},
   "source": [
    "Em algumas situações vamos desejar criar nossas próprias soluções diferenciais, seja para utilizar esquemas de mais alta ordem de precisão (como aprendemos em métodos numéricos) ou para garantir o tratamento personalizado junto às condições de contorno. Nesses casos, podemos sempre contar com NumPy como uma comparação para validar nosso código:"
   ]
  },
  {
   "cell_type": "code",
   "execution_count": 84,
   "id": "dressed-ordinance",
   "metadata": {},
   "outputs": [],
   "source": [
    "np.testing.assert_allclose(\n",
    "    actual=Dx.dot(seno_de_x),  # Nossa própria função\n",
    "    desired=np.gradient(\n",
    "        seno_de_x, coord_x, axis=0, edge_order=2\n",
    "    ),  # Benchmark com a solução Numpy\n",
    ")"
   ]
  },
  {
   "cell_type": "markdown",
   "id": "anticipated-eligibility",
   "metadata": {},
   "source": [
    "Veja mais sobre o módulo de testes do Numpy [nesse link](https://numpy.org/doc/stable/reference/routines.testing.html)."
   ]
  },
  {
   "cell_type": "markdown",
   "id": "final-socket",
   "metadata": {},
   "source": [
    "#### Derivada segunda com esquema em diferenças finitas, explícito, centrado e com precisão de O($\\Delta x^2$):\n",
    "\n",
    "\\begin{equation}\n",
    "    \\frac{\\partial^2 f}{\\partial x^2} = f_i'' = \\dfrac{f_{i+1} - 2 f_{i} + f_{i-1}}{(\\Delta x)^2}, ~ \\text{com $1 \\le i \\le n - 2$}\n",
    "\\end{equation}\n",
    "\n",
    "e as condições de contorno descentradas:\n",
    "\\begin{equation}\n",
    "   f_0'' = \\dfrac{2f_{0} -5 f_{1} + 4f_{2} -1 f_{3}}{(\\Delta x)^2}\n",
    "\\end{equation}\n",
    "\\begin{equation}\n",
    "   f_{n-1}'' = \\dfrac{-1f_{n-4} +4f_{n-3} -5f_{n-2} + 2f_{n-1}}{(\\Delta x)^2}\n",
    "\\end{equation}\n",
    "\n",
    "O esquema também pode ser representado em sua forma matricial, veja só:\n",
    "\n",
    "\\begin{equation}\n",
    "\\begin{split}\n",
    "\\begin{bmatrix} f''_{0} \\\\ f''_{1} \\\\ \\vdots \\\\ f''_{i} \\\\ \\vdots \\\\ f''_{n-2}\\\\ f''_{n-1}\\end{bmatrix} =\n",
    "\\underbrace{\n",
    "\\frac{1}{(\\Delta x)^2}\n",
    "\\begin{bmatrix}\n",
    "2 & -5 & 4 & -1 & & & \\\\\n",
    "1 & -2 & 1 & & \\\\\n",
    " & \\ddots & \\ddots & \\ddots & & & \\\\\n",
    "& & 1 & -2 & 1 & \\\\\n",
    "& & & \\ddots & \\ddots & \\ddots & \\\\\n",
    "& & & & 1 & -2 & 1\\\\\n",
    "& & & -1 & 4 & -5 & 2\n",
    "\\end{bmatrix}\n",
    "}_{D_x^2 = \\text{ Operador diferencial de segunda ordem}}\n",
    "\\begin{bmatrix} f_{0} \\\\ f_{1} \\\\ \\vdots \\\\ f_{i} \\\\ \\vdots \\\\ f_{n-2}\\\\ f_{n-1}\\end{bmatrix}\n",
    "\\\\\n",
    "\\mbox{com $2\\leq i \\leq n -3$}\n",
    "\\end{split}\n",
    "\\end{equation}\n",
    "\n",
    "\\begin{equation}\n",
    "    f'' = D_x^2 f\n",
    "\\end{equation}\n",
    "\n",
    "E assim o programamos em Python:"
   ]
  },
  {
   "cell_type": "code",
   "execution_count": 85,
   "id": "turned-detail",
   "metadata": {},
   "outputs": [],
   "source": [
    "def derivada_segunda_operador(x):\n",
    "\n",
    "    from scipy.sparse import diags\n",
    "\n",
    "    dx = (x[-1] - x[0]) / (x.size - 1)\n",
    "    # Operador diferencial de primeira ordem\n",
    "    Dx2 = diags(\n",
    "        [1.0, -2.0, 1.0], offsets=[-1, 0, 1], shape=(x.size, x.size), format=\"lil\",\n",
    "    )\n",
    "\n",
    "    # Condições de contorno\n",
    "    Dx2[0, 0:4] = [2.0, -5.0, 4.0, -1.0]\n",
    "    Dx2[-1, -4:] = [-1.0, 4.0, -5.0, 2.0]\n",
    "\n",
    "    return Dx2 / dx ** 2.0"
   ]
  },
  {
   "cell_type": "markdown",
   "id": "imported-coral",
   "metadata": {},
   "source": [
    "Verificamos novamente a solução por meio do gráfico:"
   ]
  },
  {
   "cell_type": "code",
   "execution_count": 86,
   "id": "solved-notice",
   "metadata": {},
   "outputs": [
    {
     "data": {
      "image/png": "[encoded data removed]",
      "text/plain": [
       "<Figure size 600x600 with 1 Axes>"
      ]
     },
     "metadata": {},
     "output_type": "display_data"
    }
   ],
   "source": [
    "Dx = derivada_primeira_operador(coord_x)\n",
    "Dx2 = derivada_segunda_operador(coord_x)\n",
    "\n",
    "plt.plot(coord_x, seno_de_x, label=\"f(x)=sin(x)\")\n",
    "plt.plot(coord_x, Dx.dot(seno_de_x), label=r\"$f^\\prime(x)$\")\n",
    "plt.plot(coord_x, Dx2.dot(seno_de_x), label=r\"$f^{\\prime\\prime}(x)$\")\n",
    "\n",
    "plt.legend()\n",
    "plt.xlabel(\"x\")\n",
    "plt.show()"
   ]
  },
  {
   "cell_type": "markdown",
   "id": "optional-refrigerator",
   "metadata": {
    "colab_type": "text",
    "id": "5c92uAClOejB"
   },
   "source": [
    "#### Esquema em diferenças finitas, explícito, diferença para frente e com precisão de O($\\Delta t^1$):\n",
    "\n",
    "\\begin{equation}\n",
    "    \\frac{d f}{d t} = \\dfrac{f_{k+1}-f_{k}}{\\Delta t}\n",
    "\\end{equation}"
   ]
  },
  {
   "cell_type": "markdown",
   "id": "union-devon",
   "metadata": {},
   "source": [
    "#### Esquema em diferenças finitas, implícito, centrado e com precisão de O($\\Delta x^6$):\n",
    "\n",
    "\n",
    "\\begin{equation}\n",
    "    \\frac{1}{3} f_{i-1}' + f_{i}' + \\frac{1}{3} f_{i+1}' = \\frac{14}{9} \\frac{f_{i+1}-f_{i-1}}{2\\Delta x} + \\frac{1}{9} \\frac{f_{i+2}-f_{i-2}}{4\\Delta x}\n",
    "\\end{equation}\n",
    "\n",
    "\n",
    "\\begin{equation}\n",
    "    f' = \\underbrace{A^{-1}B}_{D_x} f\n",
    "\\end{equation}"
   ]
  },
  {
   "cell_type": "markdown",
   "id": "collaborative-turkey",
   "metadata": {},
   "source": [
    "\\begin{equation}\n",
    "\\begin{split}\n",
    "\\underbrace{\n",
    "\\begin{bmatrix}\n",
    "1 & 1/3 & & & & & 1/3 \\\\\n",
    "1/3 & 1 & 1/3 & & \\\\\n",
    " & \\ddots & \\ddots & \\ddots & & & \\\\\n",
    "& & 1/3 & 1 & 1/3 & \\\\\n",
    "& & & \\ddots & \\ddots & \\ddots & \\\\\n",
    "& & & & 1/3 & 1 & 1/3\\\\\n",
    "1/3 & & & & & 1/3 & 1\n",
    "\\end{bmatrix}\n",
    "}_{A}\n",
    "\\begin{bmatrix} f'_{0} \\\\ f'_{1} \\\\ \\vdots \\\\ f'_{i} \\\\ \\vdots \\\\ f'_{n-2}\\\\ f'_{n-1}\\end{bmatrix} =\n",
    "\\underbrace{\n",
    "\\frac{1}{\\Delta x}\n",
    "\\begin{bmatrix}\n",
    "0 & 7/9 & 1/36 & & & 1/36 & 7/9 \\\\\n",
    "7/9 & 0 & 7/9 & 1/36 & & & 1/36\\\\\n",
    "& \\ddots & \\ddots & \\ddots & & & \\\\\n",
    "& 1/36 & 7/9 & 0 & 7/9 & 1/36 \\\\\n",
    "& & & \\ddots & \\ddots & \\ddots & \\\\\n",
    "1/36 & & & 1/36 & 7/9 & 0 & 7/9 \\\\\n",
    "7/9 & 1/36 & & & 1/36 & 7/9 & 0\n",
    "\\end{bmatrix}\n",
    "}_{B}\n",
    "\\begin{bmatrix} f_{0} \\\\ f_{1} \\\\ \\vdots \\\\ f_{i} \\\\ \\vdots \\\\ f_{n-2}\\\\ f_{n-1}\\end{bmatrix}\n",
    "\\\\\n",
    "\\mbox{com $2\\leq i \\leq n -3$, $f_0 = f_n$ e $f_0' = f_n'$}\n",
    "\\end{split}\n",
    "\\label{eq.dxx_matrix}\n",
    "\\end{equation}"
   ]
  },
  {
   "cell_type": "markdown",
   "id": "genuine-footage",
   "metadata": {},
   "source": [
    "### Integração Numérica"
   ]
  },
  {
   "cell_type": "markdown",
   "id": "secret-movie",
   "metadata": {
    "colab_type": "text",
    "id": "Pv0mJS5gOejC"
   },
   "source": [
    "Regra do Trapézio:"
   ]
  },
  {
   "cell_type": "markdown",
   "id": "annoying-symphony",
   "metadata": {
    "colab_type": "text",
    "id": "XsvBxgB6OejD"
   },
   "source": [
    "\\begin{equation}\n",
    "\\int_a^b f(x)dx \\approx \\dfrac{f(a) + f(b)}{2} (b-a)\n",
    "\\end{equation}\n",
    "\n",
    "Pode-se dividir em $N$ intervalos para o método composto:"
   ]
  },
  {
   "cell_type": "markdown",
   "id": "strong-championship",
   "metadata": {
    "colab_type": "text",
    "id": "oQgFtyTTOejD"
   },
   "source": [
    "\\begin{equation}\n",
    "\\int_a^b fdx \\approx \\sum_{i=0}^{n-1} \\dfrac{f_{i} + f_{i+1}}{2} \\Delta x = \\dfrac{\\Delta x}{2} \\left( f_0 + 2f_1 + \\dots + 2f_{n-2} + f_{n-1}\\right)\n",
    "\\end{equation}\n",
    "\n",
    "Veja como podemos programar a função em Python:"
   ]
  },
  {
   "cell_type": "code",
   "execution_count": 87,
   "id": "sophisticated-destiny",
   "metadata": {},
   "outputs": [],
   "source": [
    "def integral_trapezio(f, x):\n",
    "\n",
    "    dx = (x[-1] - x[0]) / (x.size - 1)\n",
    "\n",
    "    I = 0.0  # Inicializar acumulador do somatório\n",
    "\n",
    "    I += 0.5 * dx * f[0]\n",
    "\n",
    "    for i in range(1, x.size - 1):\n",
    "        I += dx * f[i]\n",
    "\n",
    "    I += 0.5 * dx * f[-1]\n",
    "\n",
    "    return I"
   ]
  },
  {
   "cell_type": "markdown",
   "id": "purple-hands",
   "metadata": {},
   "source": [
    "Agora use a função de integração numérica para verificar que:"
   ]
  },
  {
   "cell_type": "markdown",
   "id": "adequate-craps",
   "metadata": {},
   "source": [
    "\\begin{equation}\n",
    "\\int_0^{2\\pi} \\sin(x) dx \\approx 0\n",
    "\\end{equation}"
   ]
  },
  {
   "cell_type": "code",
   "execution_count": 88,
   "id": "applicable-bedroom",
   "metadata": {},
   "outputs": [
    {
     "data": {
      "text/plain": [
       "-1.9233116009940865e-16"
      ]
     },
     "execution_count": 88,
     "metadata": {},
     "output_type": "execute_result"
    }
   ],
   "source": [
    "integral_trapezio(seno_de_x, coord_x)"
   ]
  },
  {
   "cell_type": "markdown",
   "id": "talented-dream",
   "metadata": {},
   "source": [
    "Mas repare que a integração numérica é uma tarefa comum no cálculo científico, a assim, sua implementação já está inclusa em SciPy. Seja como podemos realizar o cálculo:"
   ]
  },
  {
   "cell_type": "code",
   "execution_count": 89,
   "id": "painful-rabbit",
   "metadata": {},
   "outputs": [],
   "source": [
    "import scipy as sp\n",
    "import scipy.integrate"
   ]
  },
  {
   "cell_type": "code",
   "execution_count": 90,
   "id": "combined-elizabeth",
   "metadata": {},
   "outputs": [
    {
     "data": {
      "text/plain": [
       "6.591949208711867e-17"
      ]
     },
     "execution_count": 90,
     "metadata": {},
     "output_type": "execute_result"
    }
   ],
   "source": [
    "sp.integrate.trapz(seno_de_x, coord_x)"
   ]
  },
  {
   "cell_type": "code",
   "execution_count": 91,
   "id": "accepted-confidence",
   "metadata": {},
   "outputs": [
    {
     "name": "stdout",
     "output_type": "stream",
     "text": [
      "Help on function trapz in module numpy:\n",
      "\n",
      "trapz(y, x=None, dx=1.0, axis=-1)\n",
      "    Integrate along the given axis using the composite trapezoidal rule.\n",
      "    \n",
      "    Integrate `y` (`x`) along given axis.\n",
      "    \n",
      "    Parameters\n",
      "    ----------\n",
      "    y : array_like\n",
      "        Input array to integrate.\n",
      "    x : array_like, optional\n",
      "        The sample points corresponding to the `y` values. If `x` is None,\n",
      "        the sample points are assumed to be evenly spaced `dx` apart. The\n",
      "        default is None.\n",
      "    dx : scalar, optional\n",
      "        The spacing between sample points when `x` is None. The default is 1.\n",
      "    axis : int, optional\n",
      "        The axis along which to integrate.\n",
      "    \n",
      "    Returns\n",
      "    -------\n",
      "    trapz : float\n",
      "        Definite integral as approximated by trapezoidal rule.\n",
      "    \n",
      "    See Also\n",
      "    --------\n",
      "    numpy.cumsum\n",
      "    \n",
      "    Notes\n",
      "    -----\n",
      "    Image [2]_ illustrates trapezoidal rule -- y-axis locations of points\n",
      "    will be taken from `y` array, by default x-axis distances between\n",
      "    points will be 1.0, alternatively they can be provided with `x` array\n",
      "    or with `dx` scalar.  Return value will be equal to combined area under\n",
      "    the red lines.\n",
      "    \n",
      "    \n",
      "    References\n",
      "    ----------\n",
      "    .. [1] Wikipedia page: https://en.wikipedia.org/wiki/Trapezoidal_rule\n",
      "    \n",
      "    .. [2] Illustration image:\n",
      "           https://en.wikipedia.org/wiki/File:Composite_trapezoidal_rule_illustration.png\n",
      "    \n",
      "    Examples\n",
      "    --------\n",
      "    >>> np.trapz([1,2,3])\n",
      "    4.0\n",
      "    >>> np.trapz([1,2,3], x=[4,6,8])\n",
      "    8.0\n",
      "    >>> np.trapz([1,2,3], dx=2)\n",
      "    8.0\n",
      "    >>> a = np.arange(6).reshape(2, 3)\n",
      "    >>> a\n",
      "    array([[0, 1, 2],\n",
      "           [3, 4, 5]])\n",
      "    >>> np.trapz(a, axis=0)\n",
      "    array([1.5, 2.5, 3.5])\n",
      "    >>> np.trapz(a, axis=1)\n",
      "    array([2.,  8.])\n",
      "\n"
     ]
    }
   ],
   "source": [
    "help(sp.integrate.trapezoid)"
   ]
  },
  {
   "cell_type": "markdown",
   "id": "fantastic-ideal",
   "metadata": {
    "colab_type": "text",
    "id": "oQgFtyTTOejD"
   },
   "source": [
    "Podemos ver que o erro do método numérico decresce exponencialmente, na ordem de \\\\( n^{-2} \\\\), em função do aumento do número de pontos:\n",
    "\n",
    "![Integração numérica com a Regra dos Trapézios](https://github.com/fschuch/aprenda.py/raw/master/images/trapezoidal-rule.gif)\n",
    "\n",
    "Mas ele fica saturado por volta de \\\\( 10^{-12} \\\\). É hora da reflexão, você sabe me dizer o que acontece ali?"
   ]
  },
  {
   "cell_type": "markdown",
   "id": "victorian-video",
   "metadata": {
    "colab_type": "text",
    "id": "kxhNK8dtOejH"
   },
   "source": [
    "> Material complementar:\n",
    "> * [Integração numérica com a Regra dos Trapézios](https://fschuch.github.io/aprenda.py/blog/trapezoidal-rule.html)\n",
    "> * [Finite Difference Coefficients Calculator](http://web.media.mit.edu/~crtaylor/calculator.html)\n",
    "> * [Trapezoidal rule](https://en.wikipedia.org/wiki/Trapezoidal_rule)\n",
    "> * MOIN, Parviz. **Fundamentals of engineering numerical analysis**. Cambridge University Press, 2010."
   ]
  },
  {
   "cell_type": "markdown",
   "id": "critical-preview",
   "metadata": {},
   "source": [
    "## Equações Diferenciais"
   ]
  },
  {
   "cell_type": "markdown",
   "id": "better-lyric",
   "metadata": {
    "colab_type": "text",
    "id": "qZ8y1YLNU1Ld"
   },
   "source": [
    "### Convecção e difusão transiente unidimensional"
   ]
  },
  {
   "cell_type": "markdown",
   "id": "incorrect-insider",
   "metadata": {
    "colab_type": "text",
    "id": "RGvQcvfhOejX"
   },
   "source": [
    "Resolver a EDP:\n",
    "\\begin{equation}\n",
    "    \\dfrac{\\partial T}{\\partial t}+u\\dfrac{\\partial T}{\\partial x}=\\alpha \\dfrac{\\partial^2 T}{\\partial x^2} \\quad 0\\leq x \\leq 1 ; 0\\leq t \\leq 8\n",
    "\\end{equation}\n",
    "Condições de contorno:\n",
    "\\begin{equation}\n",
    "    T(0,t)=T(1,t)=0\n",
    "\\end{equation}\n",
    "Condição inicial:\n",
    "\\begin{equation}\n",
    "    T(x,0) =  1 - ( 10 x - 1 )^2 \\quad \\text{ se $0 \\leq x \\leq 0,2$}, \\quad \\text{ senão } T(x,0) = 0\n",
    "\\end{equation}\n",
    "Discretizando com as derivadas espaciais numa representação por diferença central e a derivada temporal com diferença ascendente:\n",
    "\\begin{equation}\n",
    "\\dfrac{T_{i,k+1}-T_{i,k}}{\\Delta t}=\\alpha \\dfrac{T_{i-1,k}-2T_{i,k}+T_{i+1,k}}{(\\Delta x)^2} -u\\dfrac{T_{i+1,k}-T_{i-1,k}}{2\\Delta x}\n",
    "\\end{equation}\n",
    "\n",
    "Isolamos a incógnita ($T_{i,k+1}$) e obtemos a equação que iremos resolver:"
   ]
  },
  {
   "cell_type": "markdown",
   "id": "parallel-constitution",
   "metadata": {},
   "source": [
    "\\begin{equation}\n",
    "T_{i,k+1} =  T_{i,k} + \\alpha \\Delta t \\dfrac{T_{i-1,k}-2T_{i,k}+T_{i+1,k}}{(\\Delta x)^2} -u \\Delta t \\dfrac{T_{i+1,k}-T_{i-1,k}}{2\\Delta x}\n",
    "\\end{equation}"
   ]
  },
  {
   "cell_type": "markdown",
   "id": "given-unknown",
   "metadata": {
    "colab_type": "text",
    "id": "uO9BkQ-8OejX"
   },
   "source": [
    "O problema pode ser escrito na forma matricial como:\n",
    "\\begin{equation}\n",
    "\\begin{split}\n",
    "\\begin{bmatrix} T_{0,k+1} \\\\ T_{1,k+1} \\\\ \\vdots \\\\ T_{i,k+1} \\\\ \\vdots \\\\ T_{n-2,k+1}\\\\ T_{n-1,k+1}\\end{bmatrix} =\n",
    "\\begin{bmatrix} T_{0,k} \\\\ T_{1,k} \\\\ \\vdots \\\\ T_{i,k} \\\\ \\vdots \\\\ T_{n-2,k}\\\\ T_{n-1,k}\\end{bmatrix} +\n",
    "\\frac{\\alpha \\Delta t}{(\\Delta x)^2}\n",
    "\\begin{bmatrix}\n",
    "0 & 0 & & & & & \\\\\n",
    "1 & -2 & 1 & & \\\\\n",
    " & \\ddots & \\ddots & \\ddots & & & \\\\\n",
    "& & 1 & -2 & 1 & \\\\\n",
    "& & & \\ddots & \\ddots & \\ddots & \\\\\n",
    "& & & & 1 & -2 & 1\\\\\n",
    " & & & & & 0 & 0\n",
    "\\end{bmatrix}\n",
    "\\begin{bmatrix} T_{0,k} \\\\ T_{1,k} \\\\ \\vdots \\\\ T_{i,k} \\\\ \\vdots \\\\ T_{n-2,k}\\\\ T_{n-1,k}\\end{bmatrix} -\n",
    "\\frac{u \\Delta t}{2\\Delta x}\n",
    "\\begin{bmatrix}\n",
    "0 & 0 & & & & & \\\\\n",
    "-1 & 0 & 1 & & \\\\\n",
    " & \\ddots & \\ddots & \\ddots & & & \\\\\n",
    "& & -1 & 0 & 1 & \\\\\n",
    "& & & \\ddots & \\ddots & \\ddots & \\\\\n",
    "& & & & -1 & 0 & 1\\\\\n",
    " & & & & & 0 & 0\n",
    "\\end{bmatrix}\n",
    "\\begin{bmatrix} T_{0,k} \\\\ T_{1,k} \\\\ \\vdots \\\\ T_{i,k} \\\\ \\vdots \\\\ T_{n-2,k}\\\\ T_{n-1,k}\\end{bmatrix}\n",
    "\\\\\n",
    "\\mbox{com $2\\leq i \\leq n -3$,}\n",
    "\\end{split}\n",
    "\\end{equation}"
   ]
  },
  {
   "cell_type": "markdown",
   "id": "destroyed-orange",
   "metadata": {
    "colab_type": "text",
    "id": "QBnueMXnOejX"
   },
   "source": [
    "ou simplesmente:\n",
    "\\begin{equation}\n",
    "   T_{k+1} = T_{k} + \\underbrace{ \\Delta t \\left( \\alpha D_x - u D_x^2 \\right)}_{A} T_{k},\n",
    "\\end{equation}\n",
    "\n",
    "onde $D_x$ e $D_x^2$ são os operadores diferenciais de primeira e segunda ordem, respectivamente."
   ]
  },
  {
   "cell_type": "code",
   "execution_count": 92,
   "id": "decent-feature",
   "metadata": {
    "colab": {},
    "colab_type": "code",
    "id": "-o6fiDK-OejY"
   },
   "outputs": [
    {
     "data": {
      "image/png": "[encoded data removed]",
      "text/plain": [
       "<Figure size 600x600 with 1 Axes>"
      ]
     },
     "metadata": {},
     "output_type": "display_data"
    }
   ],
   "source": [
    "coord_x = np.linspace(start=0.0, stop=1.0, num=101)\n",
    "coord_t = np.linspace(0.0, 8.0, num=8001, endpoint=True)\n",
    "\n",
    "alpha, u, visu = (\n",
    "    0.001,\n",
    "    0.08,\n",
    "    2000,\n",
    ")  # Parâmetro de visualização: a cada quantos passos de tempo se deve graficar os resultados\n",
    "\n",
    "dt = coord_t[1] - coord_t[0]\n",
    "\n",
    "Dx = derivada_primeira_operador(coord_x)\n",
    "Dx2 = derivada_segunda_operador(coord_x)\n",
    "\n",
    "# Condições de contorno\n",
    "for D in [Dx, Dx2]:\n",
    "    D[0, :] = 0.0\n",
    "    D[-1, :] = 0.0\n",
    "\n",
    "\n",
    "def convdiff(alpha, u):\n",
    "\n",
    "    # Condição inicial\n",
    "    T = np.zeros((coord_x.size))\n",
    "    for i, ival in enumerate(coord_x):\n",
    "        if ival > 0.2:\n",
    "            break\n",
    "        T[i] = 1.0 - (10.0 * ival - 1) ** 2.0\n",
    "\n",
    "    # Operador matricial\n",
    "    A = dt * (alpha * Dx2 - u * Dx)\n",
    "\n",
    "    return A, T\n",
    "\n",
    "\n",
    "A, T = convdiff(alpha, u)\n",
    "for n in range(coord_t.size):\n",
    "    T += A.dot(T)\n",
    "    if n % visu == 0:\n",
    "        plt.plot(coord_x, T, label=f\"t = {coord_t[n]}\")\n",
    "\n",
    "plt.xlabel(\"x\")\n",
    "plt.ylabel(\"T(x)\")\n",
    "plt.legend()\n",
    "plt.show()"
   ]
  },
  {
   "cell_type": "markdown",
   "id": "068c10d0-033d-4fd4-bc50-35132f6d10db",
   "metadata": {},
   "source": [
    "Que tal aproveitar para testar diferentes valores para $\\alpha$ e $u$?\n",
    "\n",
    "Veja como percorremos diferentes configurações físicar por meio de dois laços:"
   ]
  },
  {
   "cell_type": "code",
   "execution_count": 93,
   "id": "pharmaceutical-organization",
   "metadata": {
    "colab": {},
    "colab_type": "code",
    "id": "HQmly-gyOeje"
   },
   "outputs": [
    {
     "data": {
      "image/png": "[encoded data removed]",
      "text/plain": [
       "<Figure size 600x600 with 4 Axes>"
      ]
     },
     "metadata": {},
     "output_type": "display_data"
    }
   ],
   "source": [
    "alpha_list = [0.0, 0.001]\n",
    "u_list = [0.0, 0.08]\n",
    "\n",
    "fig, ax = plt.subplots(\n",
    "    nrows=len(alpha_list), ncols=len(u_list), sharex=True, sharey=True\n",
    ")\n",
    "\n",
    "for i, alpha in enumerate(alpha_list):\n",
    "    for j, u in enumerate(u_list):\n",
    "        A, T = convdiff(alpha, u)\n",
    "        for n in range(coord_t.size):\n",
    "            T += A.dot(T)\n",
    "            if n % visu == 0:\n",
    "                ax[i, j].plot(coord_x, T, label=fr\"$t = {coord_t[n]}$\")\n",
    "                ax[-1, j].set_xlabel(fr\"$u = {u}$\")\n",
    "                ax[i, 0].set_ylabel(fr\"$\\alpha = {alpha}$\")\n",
    "\n",
    "ax[0, 0].legend()\n",
    "plt.show()"
   ]
  },
  {
   "cell_type": "markdown",
   "id": "characteristic-auditor",
   "metadata": {},
   "source": [
    "> Leitura Complementar:\n",
    "> * [Condução de Calor Transiente Bidimensional](https://www.fschuch.com/blog/2020/06/05/conducao-de-calor-transiente-bidimensional/)\n",
    "> * [CFD com Python: 12 Passos para Navier-Stokes](https://www.fschuch.com/blog/2020/01/12/cfd-com-python-12-passos-para-navier-stokes/)"
   ]
  }
 ],
 "metadata": {
  "kernelspec": {
   "display_name": "Python 3",
   "language": "python",
   "name": "python3"
  },
  "language_info": {
   "codemirror_mode": {
    "name": "ipython",
    "version": 3
   },
   "file_extension": ".py",
   "mimetype": "text/x-python",
   "name": "python",
   "nbconvert_exporter": "python",
   "pygments_lexer": "ipython3",
   "version": "3.8.8"
  },
  "toc-autonumbering": true,
  "toc-showcode": false,
  "toc-showmarkdowntxt": false,
  "toc-showtags": false,
  "widgets": {
   "application/vnd.jupyter.widget-state+json": {
    "state": {},
    "version_major": 2,
    "version_minor": 0
   }
  }
 },
 "nbformat": 4,
 "nbformat_minor": 5
}
