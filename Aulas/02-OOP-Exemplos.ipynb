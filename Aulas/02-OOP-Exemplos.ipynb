{
 "cells": [
  {
   "cell_type": "markdown",
   "id": "alert-storm",
   "metadata": {},
   "source": [
    "# Métodos Numéricos em Python - Aula 2"
   ]
  },
  {
   "cell_type": "markdown",
   "id": "direct-citizen",
   "metadata": {},
   "source": [
    "## Sumário\n",
    "\n",
    "- [Introdução, importando bibliotecas e definindo parâmetros](#Introdução);\n",
    "- [Mais sobre estruturas de dados](#Mais-sobre-estruturas-de-dados);\n",
    "- [Classes e a Programação orientada ao Objeto](#Classes-e-a-Programação-orientada-ao-Objeto);\n",
    "- [Exemplos resolvidos](#Exemplos-resolvidos);"
   ]
  },
  {
   "cell_type": "markdown",
   "id": "excessive-gravity",
   "metadata": {},
   "source": [
    "## Introdução\n",
    "\n",
    "O normal do nosso fluxo de trabalho é iniciar importando as bibliotecas que vamos utilizar no decorrer do material.\n",
    "Um maior detalhamento sobre elas já foi feito na aula anterior, de modo que agora podemos utilizar diretamente:"
   ]
  },
  {
   "cell_type": "code",
   "execution_count": null,
   "id": "present-wrestling",
   "metadata": {},
   "outputs": [],
   "source": [
    "import numpy as np\n",
    "import matplotlib.pyplot as plt\n",
    "import scipy as sp\n",
    "import scipy.integrate\n",
    "from tqdm.notebook import tqdm"
   ]
  },
  {
   "cell_type": "markdown",
   "id": "sonic-plain",
   "metadata": {},
   "source": [
    "O bloco a seguir é opcional, ele vai alterar o estilo padrão de nossas figuras, e aumentar um pouco o seu tamanho, melhorando a apresentação em nossa aula:"
   ]
  },
  {
   "cell_type": "code",
   "execution_count": null,
   "id": "formed-template",
   "metadata": {},
   "outputs": [],
   "source": [
    "# Definindo um novo estilo para as figuras [opcional]\n",
    "# Esse bloco modifica alguns dos valores padrões para\n",
    "\n",
    "plt.rcdefaults()\n",
    "\n",
    "# https://matplotlib.org/3.1.0/gallery/style_sheets/style_sheets_reference.html\n",
    "plt.style.use(\"ggplot\")\n",
    "\n",
    "# https://matplotlib.org/3.1.1/tutorials/introductory/customizing.html\n",
    "plt.rcParams.update({\"figure.dpi\": 100, \"figure.figsize\": (6, 6)})"
   ]
  },
  {
   "cell_type": "markdown",
   "id": "better-california",
   "metadata": {},
   "source": [
    "## Mais sobre estruturas de dados\n",
    "\n",
    "Vamos revisitar o tópico estruturas de dados, dada a sua importância para qualquer linguagem de programação. Conhecer as suas peculiaridades nos permite escrever códigos mais concisos e legíveis, tornando-os menos propensos a erros e mais fáceis de aprimorar, colaborar e compartilhar."
   ]
  },
  {
   "cell_type": "markdown",
   "id": "minimal-career",
   "metadata": {},
   "source": [
    "### Motivação"
   ]
  },
  {
   "cell_type": "markdown",
   "id": "competitive-saturn",
   "metadata": {},
   "source": [
    "Vamos estabelecer um exemplo prático, duas coordenadas espaciais (`x` e `y`) e uma temporal (`t`), para exemplificar o que realmente faríamos em aplicações de métodos numéricos e turbulência:"
   ]
  },
  {
   "cell_type": "code",
   "execution_count": null,
   "id": "authentic-february",
   "metadata": {},
   "outputs": [],
   "source": [
    "x = np.linspace(start = 0.0, stop = 10.0, num = 5)\n",
    "y = np.linspace(start = 0.0, stop = 20.0, num = 5)\n",
    "t = np.linspace(start = 0.0, stop = 60.0, num = 5)"
   ]
  },
  {
   "cell_type": "markdown",
   "id": "filled-arthur",
   "metadata": {},
   "source": [
    "Podemos acessar cada uma delas pelos endereços `x`, `y` e `t`, tente no bloco abaixo:"
   ]
  },
  {
   "cell_type": "code",
   "execution_count": null,
   "id": "physical-supplement",
   "metadata": {},
   "outputs": [],
   "source": [
    "print(x)"
   ]
  },
  {
   "cell_type": "markdown",
   "id": "utility-gossip",
   "metadata": {},
   "source": [
    "Mais isso acarreta em dois possíveis problemas práticos:\n",
    "\n",
    "- O nome das variáveis não expressa significativamente seu conteúdo (mais propensos a erros e mais difícil de aprimorar, colaborar e compartilhar);\n",
    "- Variáveis de apenas um caracter podem ser descuidadamente sobrescritas em outros trechos de código de nossa aplicação.\n",
    "\n",
    "Vamos ver este exemplo de **Fortran vs Python** para exemplificar:"
   ]
  },
  {
   "cell_type": "markdown",
   "id": "descending-grill",
   "metadata": {},
   "source": [
    "```fortran\n",
    "program Teste\n",
    "\n",
    "    implicit none\n",
    "\n",
    "    real, dimension(5) :: x\n",
    "\n",
    "    x = 0.0 ! Todas as componentes do vetor x serão zero,\n",
    "            ! mas pela tipagem estática, x continuará sendo um vetor\n",
    "\n",
    "end program Teste\n",
    "```"
   ]
  },
  {
   "cell_type": "markdown",
   "id": "large-diameter",
   "metadata": {},
   "source": [
    "**Atenção**: Python possui tipagem dinâmica, então o seguinte bloco tem um comportamento diferenciado:"
   ]
  },
  {
   "cell_type": "code",
   "execution_count": null,
   "id": "working-lighting",
   "metadata": {},
   "outputs": [],
   "source": [
    "x = 0.0"
   ]
  },
  {
   "cell_type": "markdown",
   "id": "interested-revision",
   "metadata": {},
   "source": [
    "A variáveis `x` era um endereço pelo qual acessávamos um vetor, de modo que perdemos o acesso a ele, pois `x` agora endereça outro objeto (o número `0.0`)."
   ]
  },
  {
   "cell_type": "code",
   "execution_count": null,
   "id": "hydraulic-replica",
   "metadata": {},
   "outputs": [],
   "source": [
    "print(x)"
   ]
  },
  {
   "cell_type": "markdown",
   "id": "tight-potential",
   "metadata": {},
   "source": [
    "É considerada uma boa prática, dar nome mais significativo para as variáveis:"
   ]
  },
  {
   "cell_type": "code",
   "execution_count": null,
   "id": "cheap-shock",
   "metadata": {},
   "outputs": [],
   "source": [
    "coord_x = np.linspace(start = 0.0, stop = 10.0, num = 5)\n",
    "coord_y = np.linspace(start = 0.0, stop = 20.0, num = 5)\n",
    "coord_t = np.linspace(start = 0.0, stop = 60.0, num = 5)"
   ]
  },
  {
   "cell_type": "markdown",
   "id": "ethical-madrid",
   "metadata": {},
   "source": [
    "São três variáveis para ficarmos lembrando, verificando e testando. Isso pode parecer banal, mas não se engane, as coordenadas são apenas a ponta o iceberg para os problemas que queremos resolver.\n",
    "\n",
    "Mas perceba que as três tem uma função muito semelhante, apenas com alguns parâmetros levemente diferentes, podemos melhorar isso?"
   ]
  },
  {
   "cell_type": "markdown",
   "id": "deadly-discretion",
   "metadata": {},
   "source": [
    "### Dicionários"
   ]
  },
  {
   "cell_type": "markdown",
   "id": "collect-variable",
   "metadata": {},
   "source": [
    "Dicionário são estruturas de dados caracterizados pelos conjuntos de pares `key: value`, com a exigência de que as chaves sejam **exclusivas** (dentro de um dicionário).\n",
    "\n",
    "As operações principais em um dicionário estão armazenando um valor com alguma chave e extraindo o valor dado a chave.\n",
    "\n",
    "Veja duas formas equivalentes de iniciá-los:"
   ]
  },
  {
   "cell_type": "code",
   "execution_count": null,
   "id": "southeast-reliance",
   "metadata": {},
   "outputs": [],
   "source": [
    "coord = dict(\n",
    "    x = np.linspace(start = 0.0, stop = 10.0, num = 5),\n",
    "    y = np.linspace(start = 0.0, stop = 20.0, num = 5),\n",
    "    t = np.linspace(start = 0.0, stop = 60.0, num = 5)\n",
    ")\n",
    "\n",
    "coord = {\n",
    "    \"x\": np.linspace(start = 0.0, stop = 10.0, num = 5),\n",
    "    \"y\": np.linspace(start = 0.0, stop = 20.0, num = 5),\n",
    "    \"t\": np.linspace(start = 0.0, stop = 60.0, num = 5)\n",
    "}"
   ]
  },
  {
   "cell_type": "markdown",
   "id": "least-picture",
   "metadata": {},
   "source": [
    "Podemos acessar cada entrada por meio de suas chaves, isso é:\n",
    "\n",
    "* `coord[\"x\"]`;\n",
    "* `coord[\"y\"]`;\n",
    "* `coord[\"t\"]`.\n",
    "\n",
    "E também temos a facilidade de poder verificar todas as mesmo tempo:"
   ]
  },
  {
   "cell_type": "code",
   "execution_count": null,
   "id": "quantitative-pattern",
   "metadata": {},
   "outputs": [],
   "source": [
    "coord"
   ]
  },
  {
   "cell_type": "markdown",
   "id": "aware-meter",
   "metadata": {},
   "source": [
    "Podemos adicionar novos valores:"
   ]
  },
  {
   "cell_type": "code",
   "execution_count": null,
   "id": "disabled-paris",
   "metadata": {},
   "outputs": [],
   "source": [
    "coord[\"z\"] = np.linspace(start = 0.0, stop = 10.0, num = 5)"
   ]
  },
  {
   "cell_type": "markdown",
   "id": "distinct-twist",
   "metadata": {},
   "source": [
    "Remover valores:"
   ]
  },
  {
   "cell_type": "code",
   "execution_count": null,
   "id": "random-opposition",
   "metadata": {},
   "outputs": [],
   "source": [
    "del coord[\"t\"]"
   ]
  },
  {
   "cell_type": "markdown",
   "id": "usual-bedroom",
   "metadata": {},
   "source": [
    "E modificar os valores já existentes:"
   ]
  },
  {
   "cell_type": "code",
   "execution_count": null,
   "id": "applied-egypt",
   "metadata": {},
   "outputs": [],
   "source": [
    "coord[\"x\"] = 0.0"
   ]
  },
  {
   "cell_type": "markdown",
   "id": "desperate-meter",
   "metadata": {},
   "source": [
    "Veja o resultado final:"
   ]
  },
  {
   "cell_type": "code",
   "execution_count": null,
   "id": "leading-chicago",
   "metadata": {},
   "outputs": [],
   "source": [
    "coord"
   ]
  },
  {
   "cell_type": "markdown",
   "id": "variable-messenger",
   "metadata": {},
   "source": [
    "Veja mais sobre dicionários na [Documentação Python](https://docs.python.org/pt-br/3/tutorial/datastructures.html#dictionaries)."
   ]
  },
  {
   "cell_type": "markdown",
   "id": "posted-schedule",
   "metadata": {},
   "source": [
    "### Tuplas"
   ]
  },
  {
   "cell_type": "markdown",
   "id": "adjacent-trustee",
   "metadata": {},
   "source": [
    "Tuplas (do inglês *tuple*) são outro tipo útil para armazenar dados. Tem um comportamento similar à listas, mas com uma diferença fundamental: **Tuplas são objetos imutáveis**.\n",
    "\n",
    "Sua construção é indicada pelos parênteses `( )`, ou pelo contrutor equivalente `tuple()`, veja o exemplo:"
   ]
  },
  {
   "cell_type": "code",
   "execution_count": null,
   "id": "alone-arrow",
   "metadata": {},
   "outputs": [],
   "source": [
    "coord = (\n",
    "    np.linspace(start = 0.0, stop = 10.0, num = 5),\n",
    "    np.linspace(start = 0.0, stop = 20.0, num = 5),\n",
    "    np.linspace(start = 0.0, stop = 60.0, num = 5)\n",
    ")"
   ]
  },
  {
   "cell_type": "markdown",
   "id": "breeding-cleaning",
   "metadata": {},
   "source": [
    "Assim como listas, acessamos as informações pelo número inteiro correspondente a posição:"
   ]
  },
  {
   "cell_type": "code",
   "execution_count": null,
   "id": "derived-invite",
   "metadata": {},
   "outputs": [],
   "source": [
    "coord[0]"
   ]
  },
  {
   "cell_type": "code",
   "execution_count": null,
   "id": "lightweight-workplace",
   "metadata": {},
   "outputs": [],
   "source": [
    "coord[2]"
   ]
  },
  {
   "cell_type": "code",
   "execution_count": null,
   "id": "advance-knitting",
   "metadata": {},
   "outputs": [],
   "source": [
    "coord"
   ]
  },
  {
   "cell_type": "markdown",
   "id": "floating-penny",
   "metadata": {},
   "source": [
    "Note que o acesso por meio da numeração pode não ser a maneira mais legível para a sua aplicação, assim, Python oferece uma estrutura especializada denominada [namedtuple](https://docs.python.org/pt-br/3/library/collections.html#collections.namedtuple). Assim como outras estruturas, ela acompanha a instalação Python, mas ainda assim, precisamos importa-las junto com o pacote collections:"
   ]
  },
  {
   "cell_type": "code",
   "execution_count": null,
   "id": "associate-threat",
   "metadata": {},
   "outputs": [],
   "source": [
    "import collections"
   ]
  },
  {
   "cell_type": "markdown",
   "id": "steady-pound",
   "metadata": {},
   "source": [
    "Criamos uma descrição das variáveis que deremos armazenar de maneira nomeada destro desta tupla especial, com o nome do conjunto, e suas propriedades:"
   ]
  },
  {
   "cell_type": "code",
   "execution_count": null,
   "id": "random-language",
   "metadata": {},
   "outputs": [],
   "source": [
    "Coordenada = collections.namedtuple(\"Coordenadas\", [\"x\", \"y\", \"t\"])"
   ]
  },
  {
   "cell_type": "code",
   "execution_count": null,
   "id": "personalized-arrow",
   "metadata": {},
   "outputs": [],
   "source": [
    "coord = Coordenada(\n",
    "    x = np.linspace(start = 0.0, stop = 10.0, num = 5),\n",
    "    y = np.linspace(start = 0.0, stop = 20.0, num = 5),\n",
    "    t = np.linspace(start = 0.0, stop = 60.0, num = 5)\n",
    ")"
   ]
  },
  {
   "cell_type": "markdown",
   "id": "valuable-permit",
   "metadata": {},
   "source": [
    "Podemos agora acessas as informações tanto por meio do numeração inteira quanto por meio de seus nomes:"
   ]
  },
  {
   "cell_type": "code",
   "execution_count": null,
   "id": "numerous-holiday",
   "metadata": {},
   "outputs": [],
   "source": [
    "coord[0]"
   ]
  },
  {
   "cell_type": "code",
   "execution_count": null,
   "id": "honey-orlando",
   "metadata": {},
   "outputs": [],
   "source": [
    "coord.x * 10"
   ]
  },
  {
   "cell_type": "markdown",
   "id": "lightweight-nutrition",
   "metadata": {},
   "source": [
    "## Classes e a Programação orientada ao Objeto"
   ]
  },
  {
   "cell_type": "markdown",
   "id": "electric-adolescent",
   "metadata": {},
   "source": [
    "Classes são um recurso importante da linguagem para definir propriedades e métodos personalizados para um dado objeto.\n",
    "\n",
    "Embora de fato podemos resolver diversos problemas em Python sem precisar recorrer à programação de classes, compreender o básico de seu funcionamento é muito importante, pois muito do universo da linguagem e também dos pacotes especializados que utilizamos se aproveitam dos benefícios da programaão orientada do objeto."
   ]
  },
  {
   "cell_type": "code",
   "execution_count": null,
   "id": "canadian-timber",
   "metadata": {},
   "outputs": [],
   "source": [
    "inteiro = 1"
   ]
  },
  {
   "cell_type": "code",
   "execution_count": null,
   "id": "careful-counter",
   "metadata": {},
   "outputs": [],
   "source": [
    "type(1)"
   ]
  },
  {
   "cell_type": "markdown",
   "id": "experimental-sessions",
   "metadata": {},
   "source": [
    "Mesmo um simples número inteiro tem uma série de atributos e métodos, que muitas vezes nem nos damos conta:"
   ]
  },
  {
   "cell_type": "code",
   "execution_count": null,
   "id": "labeled-maine",
   "metadata": {},
   "outputs": [],
   "source": [
    "dir(int)"
   ]
  },
  {
   "cell_type": "markdown",
   "id": "integral-cylinder",
   "metadata": {},
   "source": [
    "Para exempliciar, vamos continuar utilizando nosso exemplo anterior, e tratar das coordendas que precisamos para resolver um dado problema.\n",
    "\n",
    "Sistema de coordenadas possuem uma série de propriedades, por exemplo:\n",
    "\n",
    "* O próprio vetor posição;\n",
    "* Um espaçamento (ou delta), vamos nos mantes nos casos de espaçamento uniforme por simplicidade;\n",
    "* Um nome que a descreva;\n",
    "* E a representação matemática.\n",
    "\n",
    "Uma classe, em Python, é a maneira como descrevemos os objetos. A primeira versão da nossa descrição de uma coordenada pode ser feita da seguinte maneira:"
   ]
  },
  {
   "cell_type": "code",
   "execution_count": null,
   "id": "tamil-methodology",
   "metadata": {},
   "outputs": [],
   "source": [
    "class Coordenada_v0:\n",
    "\n",
    "    def __init__(self, inicio, final, numero_de_pontos, nome, simbolo):\n",
    "        \"\"\"Esse método é invocado durante a inicialização de uma instância da classe\"\"\"\n",
    "        \n",
    "        self.vetor = np.linspace(\n",
    "            start = inicio,\n",
    "            stop = final,\n",
    "            num = numero_de_pontos\n",
    "        )\n",
    "        self.delta = (final - inicio) / (numero_de_pontos - 1.0)\n",
    "        self.nome = nome\n",
    "        self.simbolo = simbolo"
   ]
  },
  {
   "cell_type": "markdown",
   "id": "diverse-victim",
   "metadata": {},
   "source": [
    "E uma vez que a classe esteja criada, podemos instanciar um objeto do tipo Coordenada com o seguinte bloco:"
   ]
  },
  {
   "cell_type": "code",
   "execution_count": null,
   "id": "aging-avenue",
   "metadata": {},
   "outputs": [],
   "source": [
    "coord_x = Coordenada_v0(\n",
    "    inicio = 0.0,\n",
    "    final = 10.0,\n",
    "    numero_de_pontos = 21,\n",
    "    nome = \"x\",\n",
    "    simbolo = r\"$x$\"    \n",
    ")"
   ]
  },
  {
   "cell_type": "markdown",
   "id": "improving-vaccine",
   "metadata": {},
   "source": [
    "E acessamos todas as suas propriedades por meio da notação `.` (ponto), veja só:"
   ]
  },
  {
   "cell_type": "code",
   "execution_count": null,
   "id": "indirect-samba",
   "metadata": {},
   "outputs": [],
   "source": [
    "coord_x.vetor"
   ]
  },
  {
   "cell_type": "code",
   "execution_count": null,
   "id": "answering-venezuela",
   "metadata": {},
   "outputs": [],
   "source": [
    "coord_x.nome"
   ]
  },
  {
   "cell_type": "code",
   "execution_count": null,
   "id": "enhanced-belfast",
   "metadata": {},
   "outputs": [],
   "source": [
    "coord_x.delta"
   ]
  },
  {
   "cell_type": "code",
   "execution_count": null,
   "id": "rental-delay",
   "metadata": {},
   "outputs": [],
   "source": [
    "coord_x.simbolo"
   ]
  },
  {
   "cell_type": "code",
   "execution_count": null,
   "id": "pleased-torture",
   "metadata": {},
   "outputs": [],
   "source": [
    "coord_x # Veremos como personalizar a exibição na tela a seguir"
   ]
  },
  {
   "cell_type": "markdown",
   "id": "blind-spank",
   "metadata": {},
   "source": [
    "Também podemos atribur mais atributos posteriormente, ou mesmo modificar os atributos já existentes:"
   ]
  },
  {
   "cell_type": "code",
   "execution_count": null,
   "id": "intimate-syracuse",
   "metadata": {},
   "outputs": [],
   "source": [
    "coord_x.nova_propriedade = None"
   ]
  },
  {
   "cell_type": "code",
   "execution_count": null,
   "id": "olive-watson",
   "metadata": {},
   "outputs": [],
   "source": [
    "coord_x.vetor = \"qualquer outra coisa\""
   ]
  },
  {
   "cell_type": "code",
   "execution_count": null,
   "id": "accepted-heater",
   "metadata": {},
   "outputs": [],
   "source": [
    "coord_x.vetor"
   ]
  },
  {
   "cell_type": "markdown",
   "id": "informal-branch",
   "metadata": {},
   "source": [
    "Mas note que isso pode resultar em um comportamente inesperado, nosso vetor é agora uma frase!\n",
    "\n",
    "O que podemos fazer quanto à isso é \"proteger\" alguns dos atributos ao iniciar seus nomes com um underline `_`, e tornar seu acesso possível por meio de propriedades. Também, vamos adicionar um método `__repr__` personalizado, ele é responvável por exibir informações do nosso objeto na tela, quando demandado.\n",
    "\n",
    "Veja como ficou o código:"
   ]
  },
  {
   "cell_type": "code",
   "execution_count": null,
   "id": "dominican-infrared",
   "metadata": {},
   "outputs": [],
   "source": [
    "class Coordenada_v1:\n",
    "\n",
    "    def __init__(self, inicio, final, numero_de_pontos, nome, simbolo):\n",
    "        \n",
    "        self._vetor = np.linspace(inicio, final, numero_de_pontos)\n",
    "        self._delta = (final - inicio) / (numero_de_pontos - 1.0)\n",
    "        self._nome = nome\n",
    "        self.simbolo = simbolo\n",
    "    \n",
    "    def __repr__(self):\n",
    "        return f\"Coordenada({self.inicio}, {self.final}, {self.numero_de_pontos}, {self.nome}, {self.simbolo})\"\n",
    "\n",
    "    @property\n",
    "    def vetor(self):\n",
    "        return self._vetor\n",
    "    @property\n",
    "    def delta(self):\n",
    "        return self._delta\n",
    "    @property\n",
    "    def inicio(self):\n",
    "        return self._vetor[0]\n",
    "    @property\n",
    "    def final(self):\n",
    "        return self._vetor[-1]\n",
    "    @property\n",
    "    def comprimento(self):\n",
    "        return self._vetor[-1] - self._vetor[0]\n",
    "    @property\n",
    "    def nome(self):\n",
    "        return self._nome\n",
    "    @property\n",
    "    def numero_de_pontos(self):\n",
    "        return self._vetor.size\n",
    "    @property\n",
    "    def size(self):\n",
    "        return self.numero_de_pontos"
   ]
  },
  {
   "cell_type": "code",
   "execution_count": null,
   "id": "favorite-priority",
   "metadata": {},
   "outputs": [],
   "source": [
    "coord_x = Coordenada_v1(\n",
    "    inicio = 0.0,\n",
    "    final = 10.0,\n",
    "    numero_de_pontos = 11,\n",
    "    nome = \"x\",\n",
    "    simbolo = r\"$x$\"    \n",
    ")"
   ]
  },
  {
   "cell_type": "code",
   "execution_count": null,
   "id": "furnished-portland",
   "metadata": {},
   "outputs": [],
   "source": [
    "coord_x # Melhor, não?"
   ]
  },
  {
   "cell_type": "markdown",
   "id": "valued-matthew",
   "metadata": {},
   "source": [
    "Perceba que agora atribuir outros valores ao vetor irá resultar em um erro, tente fazer isso:"
   ]
  },
  {
   "cell_type": "code",
   "execution_count": null,
   "id": "authentic-currency",
   "metadata": {},
   "outputs": [],
   "source": [
    "coord_x.vetor"
   ]
  },
  {
   "cell_type": "markdown",
   "id": "informal-tucson",
   "metadata": {},
   "source": [
    "Mas a não ser em situações muito específicas, nós não começamos uma classe do zero, como vimos no exemplo anterior. Nós usamos a propriedade de herança para personalizar classes já existentes, de modo que elas se adequem ao funcionamento que esperamos para nossa aplicação. Isso é feito pela linha inicial `class Coordenada_v2(Coordenada_v1)`. A classe `Coordenada_v2` será capaz de fazer tudo o que já continha em `Coordenada_v1`, além de novos métodos para ser capaz de lidar com operadores de soma `+` e subtração `-`. Veja o código:"
   ]
  },
  {
   "cell_type": "code",
   "execution_count": null,
   "id": "controlling-technician",
   "metadata": {},
   "outputs": [],
   "source": [
    "class Coordenada_v2(Coordenada_v1):\n",
    "\n",
    "    def __add__(self, other):\n",
    "        return self._vetor + other\n",
    "    \n",
    "    def __radd__(self, other):\n",
    "        return other + self._vetor\n",
    "    \n",
    "    def __sub__(self, other):\n",
    "        return self._vetor - other\n",
    "    \n",
    "    def __rsub__(self, other):\n",
    "        return other - self._vetor\n",
    "   \n",
    "    def __len__(self):\n",
    "        return self.vetor.size"
   ]
  },
  {
   "cell_type": "code",
   "execution_count": null,
   "id": "genuine-soccer",
   "metadata": {},
   "outputs": [],
   "source": [
    "coord_x = Coordenada_v2(\n",
    "    inicio = 0.0,\n",
    "    final = 10.0,\n",
    "    numero_de_pontos = 11,\n",
    "    nome = \"x\",\n",
    "    simbolo = r\"$x$\"    \n",
    ")"
   ]
  },
  {
   "cell_type": "code",
   "execution_count": null,
   "id": "incident-publicity",
   "metadata": {},
   "outputs": [],
   "source": [
    "coord_x"
   ]
  },
  {
   "cell_type": "code",
   "execution_count": null,
   "id": "instructional-delta",
   "metadata": {},
   "outputs": [],
   "source": [
    "coord_x + 4"
   ]
  },
  {
   "cell_type": "code",
   "execution_count": null,
   "id": "inner-chick",
   "metadata": {},
   "outputs": [],
   "source": [
    "coord_x - 8"
   ]
  },
  {
   "cell_type": "markdown",
   "id": "concerned-london",
   "metadata": {},
   "source": [
    "E assim podemos ir construindo nossa classe. Existe uma vasta quantidade de métodos especiais que podem ser atribuidos, veja a [documentação](https://docs.python.org/3/reference/datamodel.html#emulating-numeric-types) para mais detalhes. Além disso, podemos implementar nossos próprios métodos, e ampliar o poder das classes.\n",
    "\n",
    "Mas como vimos anteriormente, nem sempre precisamos implementar tudo à mão, podemos tirar proveito de objetos e classes fornecidos por Python ou por suas bibliotecas.\n",
    "\n",
    "Nossas coordenadas podem se derivar dos próprios vetores em Numpy (classe `np.ndarray`) por herança, e trazerem consigo uma vasta gama de propriedades e métodos numéticos. Para mais detalhes, consulte o artigo [Subclassing ndarray](https://numpy.org/doc/stable/user/basics.subclassing.html).\n",
    "\n",
    "Veja o código:"
   ]
  },
  {
   "cell_type": "code",
   "execution_count": null,
   "id": "supposed-perth",
   "metadata": {},
   "outputs": [],
   "source": [
    "class Coordenada(np.ndarray):\n",
    "\n",
    "    def __new__(cls, inicio, final, numero_de_pontos, nome, simbolo):\n",
    "        # Input array is an already formed ndarray instance\n",
    "        # We first cast to be our class type\n",
    "        obj = np.asarray(\n",
    "            np.linspace(inicio, final, numero_de_pontos, dtype=np.float64)\n",
    "        ).view(cls)\n",
    "        # add the new attribute to the created instance\n",
    "        obj._delta = (final - inicio) / (numero_de_pontos - 1.0)\n",
    "        obj._nome = nome\n",
    "        obj.simbolo = simbolo\n",
    "        # Finally, we must return the newly created object:\n",
    "        return obj\n",
    "\n",
    "    def __array_finalize__(self, obj):\n",
    "        # see InfoArray.__array_finalize__ for comments\n",
    "        if obj is None: return\n",
    "        self._delta = getattr(obj, '_delta', None)\n",
    "        self._nome = getattr(obj, '_nome', \"x\")\n",
    "        self.simbolo = getattr(obj, 'simbolo', r\"$x$\")\n",
    "\n",
    "    def __repr__(self):\n",
    "        return f\"Coordenada({self.inicio}, {self.final}, {self.size}, {self.nome}, {self.simbolo})\"\n",
    "        \n",
    "    @property\n",
    "    def delta(self):\n",
    "        return self._delta\n",
    "    @property\n",
    "    def inicio(self):\n",
    "        return self[0]\n",
    "    @property\n",
    "    def final(self):\n",
    "        return self[-1]\n",
    "    @property\n",
    "    def comprimento(self):\n",
    "        return self.final - self.inicio\n",
    "    @property\n",
    "    def nome(self):\n",
    "        return self._nome"
   ]
  },
  {
   "cell_type": "code",
   "execution_count": null,
   "id": "broadband-isolation",
   "metadata": {},
   "outputs": [],
   "source": [
    "coord_x = Coordenada(\n",
    "    inicio = 0.0,\n",
    "    final = 10.0,\n",
    "    numero_de_pontos = 101,\n",
    "    nome = \"x\",\n",
    "    simbolo = r\"$x$\"    \n",
    ")"
   ]
  },
  {
   "cell_type": "code",
   "execution_count": null,
   "id": "acting-tradition",
   "metadata": {},
   "outputs": [],
   "source": [
    "coord_x * 10"
   ]
  },
  {
   "cell_type": "code",
   "execution_count": null,
   "id": "nutritional-myrtle",
   "metadata": {},
   "outputs": [],
   "source": [
    "coord_x ** 20"
   ]
  },
  {
   "cell_type": "code",
   "execution_count": null,
   "id": "unknown-thompson",
   "metadata": {},
   "outputs": [],
   "source": [
    "np.sin(coord_x)"
   ]
  },
  {
   "cell_type": "markdown",
   "id": "dried-universe",
   "metadata": {},
   "source": [
    "Agora que temos um coordenada funcional, camos criar uma classe especializada para os problemas bidimenionais que iremos resolver. Note que ela aceita os parametros e armazena as coordendas `x` e `y`:"
   ]
  },
  {
   "cell_type": "code",
   "execution_count": null,
   "id": "collected-communist",
   "metadata": {},
   "outputs": [],
   "source": [
    "class Coordenadas2d:\n",
    "    \n",
    "    def __init__(self, parametros_x: dict, parametros_y: dict):\n",
    "        \n",
    "        self._x = Coordenada(**parametros_x)\n",
    "        self._y = Coordenada(**parametros_y)\n",
    "        \n",
    "    @property\n",
    "    def x(self): return self._x\n",
    "    @property\n",
    "    def y(self): return self._y"
   ]
  },
  {
   "cell_type": "code",
   "execution_count": null,
   "id": "systematic-blond",
   "metadata": {},
   "outputs": [],
   "source": [
    "coord = Coordenadas2d(\n",
    "    parametros_x = dict(\n",
    "        inicio = 0.0,\n",
    "        final = 10.0,\n",
    "        numero_de_pontos = 101,\n",
    "        nome = \"componente horizontal\",\n",
    "        simbolo = r\"$x$\"\n",
    "    ),\n",
    "    parametros_y = dict(\n",
    "        inicio = 0.0,\n",
    "        final = 10.0,\n",
    "        numero_de_pontos = 101,\n",
    "        nome = \"componente vertical\",\n",
    "        simbolo = r\"$y$\"\n",
    "    ),\n",
    ")"
   ]
  },
  {
   "cell_type": "markdown",
   "id": "decreased-potter",
   "metadata": {},
   "source": [
    "Acessamos os atributos individualmente:"
   ]
  },
  {
   "cell_type": "code",
   "execution_count": null,
   "id": "coated-activity",
   "metadata": {},
   "outputs": [],
   "source": [
    "coord.x"
   ]
  },
  {
   "cell_type": "code",
   "execution_count": null,
   "id": "hindu-flour",
   "metadata": {},
   "outputs": [],
   "source": [
    "coord.x.delta"
   ]
  },
  {
   "cell_type": "code",
   "execution_count": null,
   "id": "regulation-express",
   "metadata": {},
   "outputs": [],
   "source": [
    "coord.y + 20."
   ]
  },
  {
   "cell_type": "markdown",
   "id": "sixth-tourist",
   "metadata": {},
   "source": [
    "De maneira semelhante, podemos descrever uma dada matriz ou campo bidimensional como:\n",
    "\n",
    "* Um arranjo numérico;\n",
    "* Um nome próprio;\n",
    "* Uma representação matemática.\n",
    "\n",
    "Veja o código:"
   ]
  },
  {
   "cell_type": "code",
   "execution_count": null,
   "id": "handmade-privilege",
   "metadata": {},
   "outputs": [],
   "source": [
    "class Campo2d_v0(np.ndarray):\n",
    "\n",
    "    def __new__(cls, coord: Coordenadas2d, nome: str, simbolo: str):\n",
    "        # Input array is an already formed ndarray instance\n",
    "        # We first cast to be our class type\n",
    "        obj = np.asarray(\n",
    "            np.zeros(shape=(coord.x.size, coord.y.size), dtype=np.float64)\n",
    "        ).view(cls)\n",
    "        # add the new attribute to the created instance\n",
    "        obj._coord = coord\n",
    "        obj._nome = nome\n",
    "        obj._simbolo = simbolo\n",
    "        # Finally, we must return the newly created object:\n",
    "        return obj\n",
    "\n",
    "    def __array_finalize__(self, obj):\n",
    "        # see InfoArray.__array_finalize__ for comments\n",
    "        if obj is None: return\n",
    "        self._coord = getattr(obj, '_coord', None)\n",
    "        self._nome = getattr(obj, '_nome', \"x\")\n",
    "        self._simbolo = getattr(obj, '_simbolo', r\"$x$\")\n",
    "\n",
    "    @property\n",
    "    def coord(self): return self._coord\n",
    "    @property\n",
    "    def nome(self): return self._nome\n",
    "    @property\n",
    "    def simbolo(self): return self._simbolo"
   ]
  },
  {
   "cell_type": "code",
   "execution_count": null,
   "id": "studied-burns",
   "metadata": {},
   "outputs": [],
   "source": [
    "ux = Campo2d_v0(coord, \"velocidade horizontal\", r\"$u_x$\")\n",
    "ux"
   ]
  },
  {
   "cell_type": "markdown",
   "id": "ecological-harmony",
   "metadata": {},
   "source": [
    "Vamos adicionar métodos personalizados para imprimir a arranjo na tela, caso necessário. E também, uma vez que as coordenadas estão disponíveis como atributos, podemos criar um método para graficar a matriz na tela:"
   ]
  },
  {
   "cell_type": "code",
   "execution_count": null,
   "id": "junior-flashing",
   "metadata": {},
   "outputs": [],
   "source": [
    "class Campo2d_v1(Campo2d_v0):\n",
    "\n",
    "    def __str__(self):\n",
    "        return f\"{self.nome} - {self.simbolo}: mean={self.mean()}, min={self.min()}, max={self.max()}\"\n",
    "        \n",
    "    def plot(self, figure_name = None):\n",
    "        fig, ax = plt.subplots()\n",
    "        \n",
    "        im = ax.contourf(self.coord.x, self.coord.y, self.T)\n",
    "        fig.colorbar(im)\n",
    "        \n",
    "        ax.set_xlabel(f\"{self.coord.x.nome} - {self.coord.x.simbolo}\")\n",
    "        ax.set_ylabel(f\"{self.coord.y.nome} - {self.coord.y.simbolo}\")\n",
    "        ax.set_title(f\"{self.nome} - {self.simbolo}\")\n",
    "        ax.set_aspect('equal', 'box')\n",
    "        \n",
    "        if figure_name is None:\n",
    "            fig.show()\n",
    "        else:\n",
    "            fig.savefig(figure_name)\n",
    "            plt.close(fig)\n",
    "        "
   ]
  },
  {
   "cell_type": "code",
   "execution_count": null,
   "id": "educational-looking",
   "metadata": {},
   "outputs": [],
   "source": [
    "ux = Campo2d_v1(coord, \"velocidade horizontal\", r\"$u_x$\")"
   ]
  },
  {
   "cell_type": "code",
   "execution_count": null,
   "id": "adopted-rendering",
   "metadata": {},
   "outputs": [],
   "source": [
    "print(ux)"
   ]
  },
  {
   "cell_type": "code",
   "execution_count": null,
   "id": "middle-weekend",
   "metadata": {},
   "outputs": [],
   "source": [
    "ux.plot()"
   ]
  },
  {
   "cell_type": "markdown",
   "id": "several-charleston",
   "metadata": {},
   "source": [
    "Lembre-se que na aula passada implementamos métodos numérios para obtenção da derivada primeira e segunda:"
   ]
  },
  {
   "cell_type": "code",
   "execution_count": null,
   "id": "similar-sewing",
   "metadata": {},
   "outputs": [],
   "source": [
    "def derivada_primeira(array, delta):\n",
    "    \n",
    "    derivada = np.zeros_like(array)\n",
    "    \n",
    "    derivada[0] = - 3.0 * array[0] + 4.0 * array[1] - 1.0 * array[2]\n",
    "    derivada[1:-1] = array[:-2] - array[2:]\n",
    "    derivada[-1] = 1.0 * array[-3] - 4.0 * array[-2] + 3.0 * array[-1]\n",
    "    \n",
    "    return derivada / (2.0 * delta)\n",
    "\n",
    "def derivada_segunda(array, delta):\n",
    "    derivada = np.zeros_like(array)\n",
    "    \n",
    "    derivada[0] = 2.0 * array[0] - 5.0 * array[1] + 4.0 * array[2] - 1.0 * array[3]\n",
    "    derivada[1:-1] = array[2:] - 2.0 * array[1:-1] + array[0:-2]\n",
    "    derivada[-1] = - array[-4] + 4.0 * array[-3] - 5.0 * array[-2] + 2.0 * array[-1]\n",
    "    \n",
    "    return derivada / delta ** 2.0"
   ]
  },
  {
   "cell_type": "markdown",
   "id": "removable-monaco",
   "metadata": {},
   "source": [
    "Vamos acrescentar essas operações para serem acessadas facilmente em nossos arranjos:"
   ]
  },
  {
   "cell_type": "code",
   "execution_count": null,
   "id": "rotary-encyclopedia",
   "metadata": {},
   "outputs": [],
   "source": [
    "class Campo2d_v2(Campo2d_v1):\n",
    "\n",
    "    @property\n",
    "    def dx(self):\n",
    "        return np.apply_along_axis(derivada_primeira, 0, self, self.coord.x.delta)\n",
    "\n",
    "    @property\n",
    "    def dxx(self):\n",
    "        return np.apply_along_axis(derivada_segunda, 0, self, self.coord.x.delta)\n",
    "    \n",
    "    @property\n",
    "    def dy(self):\n",
    "        return np.apply_along_axis(derivada_primeira, 1, self, self.coord.y.delta)\n",
    "\n",
    "    @property\n",
    "    def dyy(self):\n",
    "        return np.apply_along_axis(derivada_segunda, 1, self, self.coord.y.delta)"
   ]
  },
  {
   "cell_type": "code",
   "execution_count": null,
   "id": "liked-probe",
   "metadata": {},
   "outputs": [],
   "source": [
    "ux = Campo2d_v2(coord, \"velocidade horizontal\", r\"$u_x$\")"
   ]
  },
  {
   "cell_type": "markdown",
   "id": "bright-academy",
   "metadata": {},
   "source": [
    "Podemos agora inclusive realizar os diversos métodos em cadeia, e aqui, começamos a realmente mostra a profunda utilidade das classes:"
   ]
  },
  {
   "cell_type": "code",
   "execution_count": null,
   "id": "whole-humor",
   "metadata": {},
   "outputs": [],
   "source": [
    "ux.dx.plot()"
   ]
  },
  {
   "cell_type": "markdown",
   "id": "engaged-beaver",
   "metadata": {},
   "source": [
    "Por fim, vamos adicionar ao nosso exemplo métodos práticos para a resolução de problemas em fenômenos de transporte, sendo eles:\n",
    "\n",
    "* Calcular o termo convectivo/difusivo de uma função $f$, dada às velocidades $u_x$, $u_y$ e o coeficiente de difusão:\n",
    "\n",
    "    $$\n",
    "    - u_x \\dfrac{\\partial f}{\\partial x} - u_y \\dfrac{\\partial f}{\\partial y} + \\dfrac{1}{diff_{coef}} \\left( \\dfrac{\\partial^2 f}{\\partial x^2} + \\dfrac{\\partial^2 f}{\\partial y^2} \\right)\n",
    "    $$\n",
    "\n",
    "* Resolver a equação de pressão-Poisson discreta, que pode ser escrita como \n",
    "\n",
    "    $$\n",
    "    \\begin{split}\n",
    "    p_{i,j}^{n} = & \\frac{\\left(p_{i+1,j}^{n}+p_{i-1,j}^{n}\\right) \\Delta y^2 + \\left(p_{i,j+1}^{n}+p_{i,j-1}^{n}\\right) \\Delta x^2}{2\\left(\\Delta x^2+\\Delta y^2\\right)} \\\\\n",
    "    & -\\frac{\\Delta x^2\\Delta y^2}{2\\left(\\Delta x^2+\\Delta y^2\\right)} \\\\\n",
    "    & \\times \\left[\\frac{1}{\\Delta t}\\left(\\frac{u_{i+1,j}-u_{i-1,j}}{2\\Delta x}+\\frac{v_{i,j+1}-v_{i,j-1}}{2\\Delta y}\\right)-\\frac{u_{i+1,j}-u_{i-1,j}}{2\\Delta x}\\frac{u_{i+1,j}-u_{i-1,j}}{2\\Delta x} -2\\frac{u_{i,j+1}-u_{i,j-1}}{2\\Delta y}\\frac{v_{i+1,j}-v_{i-1,j}}{2\\Delta x}-\\frac{v_{i,j+1}-v_{i,j-1}}{2\\Delta y}\\frac{v_{i,j+1}-v_{i,j-1}}{2\\Delta y}\\right]\n",
    "    \\end{split}\n",
    "    $$\n",
    "    \n",
    "    Mais detalhes podem ser obtidos nos passos 10 e 11 do curso [CFD com Python](https://github.com/fschuch/CFDPython-BR)."
   ]
  },
  {
   "cell_type": "code",
   "execution_count": null,
   "id": "industrial-seeking",
   "metadata": {},
   "outputs": [],
   "source": [
    "class Campo2d_v3(Campo2d_v2):\n",
    "\n",
    "    def convectivo_difusivo(self, ux, uy, diff_coef):\n",
    "        return - ux * self.dx - uy * self.dy + (self.dxx + self.dyy) / diff_coef\n",
    "    \n",
    "    def resolver_poisson(self, ux, uy, dt, numero_iterações=50):\n",
    "        array_b = (ux.dx + uy.dy)*0.5/dt - (ux.dx*0.5)**2.0 - uy.dx * ux.dy - (uy.dy*0.5)**2.0\n",
    "        \n",
    "        for n in range(numero_iterações):\n",
    "            pn = self.copy()\n",
    "            self[1:-1, 1:-1] = (((pn[2:,1:-1] + pn[0:-2,1:-1]) * self.coord.y.delta**2 + \n",
    "                          (pn[1:-1,2:] + pn[1:-1,0:-2]) * self.coord.x.delta**2) /\n",
    "                          (2 * (self.coord.x.delta**2 + self.coord.y.delta**2)) -\n",
    "                          self.coord.x.delta**2 * self.coord.y.delta**2 / (2 * (self.coord.x.delta**2 + self.coord.y.delta**2)) * \n",
    "                          array_b[1:-1,1:-1])\n",
    "            \n",
    "            self[-1,:] = self[-2,:] # dp/dx = 0 at x = Lx\n",
    "            self[:,0] = self[:,1]   # dp/dy = 0 at y = 0\n",
    "            self[0,:] = self[1,:]   # dp/dx = 0 at x = 0\n",
    "            self[:,-1] = self[:,-2] # dp/dy = 0 at y = Ly        "
   ]
  },
  {
   "cell_type": "markdown",
   "id": "confidential-theta",
   "metadata": {},
   "source": [
    "## Exemplos resolvidos"
   ]
  },
  {
   "cell_type": "markdown",
   "id": "ahead-tsunami",
   "metadata": {},
   "source": [
    "### Corrente de Densidade em Lançamento Finito"
   ]
  },
  {
   "cell_type": "markdown",
   "id": "bigger-despite",
   "metadata": {},
   "source": [
    "<img src=\"../assets/output.gif\">"
   ]
  },
  {
   "cell_type": "markdown",
   "id": "eleven-criminal",
   "metadata": {},
   "source": [
    "$$\\frac{\\partial^2 p}{\\partial x^2}+\\frac{\\partial^2 p}{\\partial y^2} = -\\left(\\frac{\\partial u}{\\partial x}\\frac{\\partial u}{\\partial x}+2\\frac{\\partial u}{\\partial y}\\frac{\\partial v}{\\partial x}+\\frac{\\partial v}{\\partial y}\\frac{\\partial v}{\\partial y} \\right)$$\n",
    "\n",
    "$$\\frac{\\partial u}{\\partial t}+u\\frac{\\partial u}{\\partial x}+v\\frac{\\partial u}{\\partial y} = - \\frac{\\partial p}{\\partial x}+ \\frac{1}{Re} \\left(\\frac{\\partial^2 u}{\\partial x^2}+\\frac{\\partial^2 u}{\\partial y^2} \\right) $$\n",
    "\n",
    "$$\\frac{\\partial v}{\\partial t}+u\\frac{\\partial v}{\\partial x}+v\\frac{\\partial v}{\\partial y} = - \\frac{\\partial p}{\\partial y}+ \\frac{1}{Re} \\left(\\frac{\\partial^2 v}{\\partial x^2}+\\frac{\\partial^2 v}{\\partial y^2}\\right) - c $$\n",
    "\n",
    "$$ \\frac{\\partial c}{\\partial t} + u\\frac{\\partial c}{\\partial x} + v\\frac{\\partial c}{\\partial y} = \\frac{1}{Re ~ Sc} \\left(\\frac{\\partial^2 c}{\\partial x^2}+\\frac{\\partial^2 c}{\\partial y^2} \\right) $$"
   ]
  },
  {
   "cell_type": "markdown",
   "id": "intellectual-diameter",
   "metadata": {},
   "source": [
    "A equação do momento na direção de $u$:\n",
    "\n",
    "$$\n",
    "\\begin{split}\n",
    "u_{i,j}^{n+1} = u_{i,j}^{n} & - u_{i,j}^{n} \\frac{\\Delta t}{\\Delta x} \\left(u_{i,j}^{n}-u_{i-1,j}^{n}\\right) - v_{i,j}^{n} \\frac{\\Delta t}{\\Delta y} \\left(u_{i,j}^{n}-u_{i,j-1}^{n}\\right) \\\\\n",
    "& - \\frac{\\Delta t}{2\\Delta x} \\left(p_{i+1,j}^{n}-p_{i-1,j}^{n}\\right) \\\\\n",
    "& + \\frac{1}{Re} \\left(\\frac{\\Delta t}{\\Delta x^2} \\left(u_{i+1,j}^{n}-2u_{i,j}^{n}+u_{i-1,j}^{n}\\right) + \\frac{\\Delta t}{\\Delta y^2} \\left(u_{i,j+1}^{n}-2u_{i,j}^{n}+u_{i,j-1}^{n}\\right)\\right)\n",
    "\\end{split}\n",
    "$$\n",
    "\n",
    "A equação do momento na direção de $v$:\n",
    "\n",
    "$$\n",
    "\\begin{split}\n",
    "v_{i,j}^{n+1} = v_{i,j}^{n} & - u_{i,j}^{n} \\frac{\\Delta t}{\\Delta x} \\left(v_{i,j}^{n}-v_{i-1,j}^{n}\\right) - v_{i,j}^{n} \\frac{\\Delta t}{\\Delta y} \\left(v_{i,j}^{n}-v_{i,j-1}^{n})\\right) \\\\\n",
    "& - \\frac{\\Delta t}{2\\Delta y} \\left(p_{i,j+1}^{n}-p_{i,j-1}^{n}\\right) \\\\\n",
    "& + \\frac{1}{Re} \\left(\\frac{\\Delta t}{\\Delta x^2} \\left(v_{i+1,j}^{n}-2v_{i,j}^{n}+v_{i-1,j}^{n}\\right) + \\frac{\\Delta t}{\\Delta y^2} \\left(v_{i,j+1}^{n}-2v_{i,j}^{n}+v_{i,j-1}^{n}\\right)\\right) - \\Delta t c_{i,j}\n",
    "\\end{split}\n",
    "$$\n",
    "\n",
    "Quase lá! Agora, reorganizamos a equação de pressão-Poisson:\n",
    "\n",
    "$$\n",
    "\\begin{split}\n",
    "p_{i,j}^{n} = & \\frac{\\left(p_{i+1,j}^{n}+p_{i-1,j}^{n}\\right) \\Delta y^2 + \\left(p_{i,j+1}^{n}+p_{i,j-1}^{n}\\right) \\Delta x^2}{2\\left(\\Delta x^2+\\Delta y^2\\right)} \\\\\n",
    "& -\\frac{\\Delta x^2\\Delta y^2}{2\\left(\\Delta x^2+\\Delta y^2\\right)} \\\\\n",
    "& \\times \\left[\\frac{1}{\\Delta t}\\left(\\frac{u_{i+1,j}-u_{i-1,j}}{2\\Delta x}+\\frac{v_{i,j+1}-v_{i,j-1}}{2\\Delta y}\\right)-\\frac{u_{i+1,j}-u_{i-1,j}}{2\\Delta x}\\frac{u_{i+1,j}-u_{i-1,j}}{2\\Delta x} -2\\frac{u_{i,j+1}-u_{i,j-1}}{2\\Delta y}\\frac{v_{i+1,j}-v_{i-1,j}}{2\\Delta x}-\\frac{v_{i,j+1}-v_{i,j-1}}{2\\Delta y}\\frac{v_{i,j+1}-v_{i,j-1}}{2\\Delta y}\\right]\n",
    "\\end{split}\n",
    "$$\n",
    "\n",
    "E a equação do transporte de escalar:\n",
    "\n",
    "$$\n",
    "\\begin{split}\n",
    "c_{i,j}^{n+1} = c_{i,j}^{n} & - u_{i,j}^{n} \\frac{\\Delta t}{\\Delta x} \\left(c_{i,j}^{n}-c_{i-1,j}^{n}\\right) - v_{i,j}^{n} \\frac{\\Delta t}{\\Delta y} \\left(c_{i,j}^{n}-c_{i,j-1}^{n})\\right) \\\\\n",
    "& + \\frac{1}{Re ~Sc} \\left(\\frac{\\Delta t}{\\Delta x^2} \\left(c_{i+1,j}^{n}-2c_{i,j}^{n}+c_{i-1,j}^{n}\\right) + \\frac{\\Delta t}{\\Delta y^2} \\left(c_{i,j+1}^{n}-2c_{i,j}^{n}+c_{i,j-1}^{n}\\right)\\right)\n",
    "\\end{split}\n",
    "$$"
   ]
  },
  {
   "cell_type": "markdown",
   "id": "ideal-storage",
   "metadata": {},
   "source": [
    "A condição inicial é $u, v, p = 0 $ em todos os lugares, e as condições de contorno são:\n",
    "\n",
    "$u=1$ em $y=2$ (a \"tampa\");\n",
    "\n",
    "$u, v=0$ nas fronteiras restantes;\n",
    "\n",
    "$\\frac{\\partial p}{\\partial y}=0$ em $y=0$;\n",
    "\n",
    "$p=0$ em $y=2$\n",
    "\n",
    "$\\frac{\\partial p}{\\partial x}=0$ em $x=0$ e $x=2$"
   ]
  },
  {
   "cell_type": "markdown",
   "id": "negative-canada",
   "metadata": {},
   "source": [
    "Podemos finalmente escrever o solver para Navier-Stokes, tirando proveito de todos os métodos que implementamos na nossa classe `Campo2d`. Veja o código:"
   ]
  },
  {
   "cell_type": "code",
   "execution_count": null,
   "id": "controlled-deficit",
   "metadata": {},
   "outputs": [],
   "source": [
    "def lock_exchange(coordenadas, total_steps, time_step, time_snap, numero_de_reynolds, numero_de_schmidt, richardson_number):\n",
    "    \n",
    "    ux = Campo2d_v3(coordenadas, \"velocidade horizontal\", r\"$u_x$\")\n",
    "    uy = Campo2d_v3(coordenadas, \"velocidade vertical\", r\"$u_y$\")\n",
    "    p = Campo2d_v3(coordenadas, \"pressão\", r\"$p$\")\n",
    "    \n",
    "    c = Campo2d_v3(coordenadas, \"Concentração adimensional\", r\"$c$\")\n",
    "    # Condição inicial\n",
    "    c[:coordenadas.x.size//4,:] += 1.0\n",
    "    \n",
    "    for n in tqdm(range(total_steps)):\n",
    "        uxn = ux.copy()\n",
    "        uyn = uy.copy()\n",
    "        cn = c.copy()\n",
    "        \n",
    "        p.resolver_poisson(uxn, uyn, dt=time_step)        \n",
    "        ux += time_step * (uxn.convectivo_difusivo(uxn, uyn, diff_coef=numero_de_reynolds) - p.dx)\n",
    "        uy += time_step * (uyn.convectivo_difusivo(uxn, uyn, diff_coef=numero_de_reynolds) - p.dy + richardson_number * cn)\n",
    "        c += time_step * cn.convectivo_difusivo(uxn, uyn, diff_coef=numero_de_reynolds*numero_de_schmidt)\n",
    "        \n",
    "        # Condições de contorno de não deslizamento para velocidade\n",
    "        ux[:,0]  = 0\n",
    "        ux[0,:]  = 0\n",
    "        ux[-1,:] = 0\n",
    "        ux[:,-1] = 0\n",
    "        uy[:,0]  = 0\n",
    "        uy[:,-1] = 0\n",
    "        uy[0,:]  = 0\n",
    "        uy[-1,:] = 0\n",
    "        \n",
    "        # Fluxo nulo para concentração\n",
    "        c[-1,:] = c[-2,:] # dc/dx = 0 at x = 4\n",
    "        c[:,0] = c[:,1]   # dc/dy = 0 at y = 0\n",
    "        c[0,:] = c[1,:]   # dc/dx = 0 at x = 0\n",
    "        c[:,-1] = c[:,-2] # dc/dy = 0 at y = 1\n",
    "        \n",
    "        if n % time_snap == 0:\n",
    "            c.plot(f\"c-{str(n//time_snap).zfill(4)}\")\n",
    "    \n",
    "    return ux, uy, p, c"
   ]
  },
  {
   "cell_type": "markdown",
   "id": "orange-repair",
   "metadata": {},
   "source": [
    "Agora basta definirmos os parâmetros e invocar o solver:"
   ]
  },
  {
   "cell_type": "code",
   "execution_count": null,
   "id": "metric-factory",
   "metadata": {},
   "outputs": [],
   "source": [
    "coordenadas = Coordenadas2d(\n",
    "    parametros_x = dict(\n",
    "        inicio = 0.0,\n",
    "        final = 4.0,\n",
    "        numero_de_pontos = 81,\n",
    "        nome = \"componente horizontal\",\n",
    "        simbolo = r\"$x$\"\n",
    "    ),\n",
    "    parametros_y = dict(\n",
    "        inicio = 0.0,\n",
    "        final = 1.0,\n",
    "        numero_de_pontos = 21,\n",
    "        nome = \"componente vertical\",\n",
    "        simbolo = r\"$y$\"\n",
    "    ),\n",
    ")\n",
    "\n",
    "ux, uy, p, c = lock_exchange(\n",
    "    coordenadas,\n",
    "    total_steps=2000,\n",
    "    time_step=0.001,\n",
    "    time_snap=500,\n",
    "    numero_de_reynolds=100.0,\n",
    "    numero_de_schmidt=1.0,\n",
    "    richardson_number=1.0\n",
    ")"
   ]
  },
  {
   "cell_type": "markdown",
   "id": "cooked-testament",
   "metadata": {},
   "source": [
    "Vamos analisar os resultados:"
   ]
  },
  {
   "cell_type": "code",
   "execution_count": null,
   "id": "binding-authorization",
   "metadata": {},
   "outputs": [],
   "source": [
    "print(ux)"
   ]
  },
  {
   "cell_type": "code",
   "execution_count": null,
   "id": "confident-detective",
   "metadata": {},
   "outputs": [],
   "source": [
    "for var in [c, ux, uy, p]:\n",
    "    var.plot()"
   ]
  },
  {
   "cell_type": "markdown",
   "id": "deadly-judge",
   "metadata": {},
   "source": [
    "### Escoamento em Cavidade com Transferência de Calor"
   ]
  },
  {
   "cell_type": "markdown",
   "id": "choice-jefferson",
   "metadata": {},
   "source": [
    "Aqui está o sistema de equações diferenciais: duas equações para os componentes de velocidade $u,v$, uma equação para pressão e uma para a temperatura:\n",
    "\n",
    "$$\\frac{\\partial u}{\\partial t}+u\\frac{\\partial u}{\\partial x}+v\\frac{\\partial u}{\\partial y} = - \\frac{\\partial p}{\\partial x}+ \\frac{1}{Re} \\left(\\frac{\\partial^2 u}{\\partial x^2}+\\frac{\\partial^2 u}{\\partial y^2} \\right) $$\n",
    "\n",
    "$$\\frac{\\partial v}{\\partial t}+u\\frac{\\partial v}{\\partial x}+v\\frac{\\partial v}{\\partial y} = - \\frac{\\partial p}{\\partial y}+ \\frac{1}{Re} \\left(\\frac{\\partial^2 v}{\\partial x^2}+\\frac{\\partial^2 v}{\\partial y^2}\\right) + Ri ~ \\Theta $$\n",
    "\n",
    "$$\\frac{\\partial^2 p}{\\partial x^2}+\\frac{\\partial^2 p}{\\partial y^2} = -\\left(\\frac{\\partial u}{\\partial x}\\frac{\\partial u}{\\partial x}+2\\frac{\\partial u}{\\partial y}\\frac{\\partial v}{\\partial x}+\\frac{\\partial v}{\\partial y}\\frac{\\partial v}{\\partial y} \\right)$$\n",
    "\n",
    "$$ \\frac{\\partial \\Theta}{\\partial t} + u\\frac{\\partial \\Theta}{\\partial x} + v\\frac{\\partial \\Theta}{\\partial y} = \\frac{1}{Re ~ Pr} \\left(\\frac{\\partial^2 \\Theta}{\\partial x^2}+\\frac{\\partial^2 \\Theta}{\\partial y^2} \\right) $$"
   ]
  },
  {
   "cell_type": "markdown",
   "id": "running-mumbai",
   "metadata": {},
   "source": [
    "* Equações discretas:"
   ]
  },
  {
   "cell_type": "markdown",
   "id": "crucial-bikini",
   "metadata": {},
   "source": [
    "A equação do momento na direção de $u$:\n",
    "\n",
    "$$\n",
    "\\begin{split}\n",
    "u_{i,j}^{n+1} = u_{i,j}^{n} & - u_{i,j}^{n} \\frac{\\Delta t}{\\Delta x} \\left(u_{i,j}^{n}-u_{i-1,j}^{n}\\right) - v_{i,j}^{n} \\frac{\\Delta t}{\\Delta y} \\left(u_{i,j}^{n}-u_{i,j-1}^{n}\\right) \\\\\n",
    "& - \\frac{\\Delta t}{2\\Delta x} \\left(p_{i+1,j}^{n}-p_{i-1,j}^{n}\\right) \\\\\n",
    "& + \\frac{1}{Re} \\left(\\frac{\\Delta t}{\\Delta x^2} \\left(u_{i+1,j}^{n}-2u_{i,j}^{n}+u_{i-1,j}^{n}\\right) + \\frac{\\Delta t}{\\Delta y^2} \\left(u_{i,j+1}^{n}-2u_{i,j}^{n}+u_{i,j-1}^{n}\\right)\\right)\n",
    "\\end{split}\n",
    "$$\n",
    "\n",
    "A equação do momento na direção de $v$:\n",
    "\n",
    "$$\n",
    "\\begin{split}\n",
    "v_{i,j}^{n+1} = v_{i,j}^{n} & - u_{i,j}^{n} \\frac{\\Delta t}{\\Delta x} \\left(v_{i,j}^{n}-v_{i-1,j}^{n}\\right) - v_{i,j}^{n} \\frac{\\Delta t}{\\Delta y} \\left(v_{i,j}^{n}-v_{i,j-1}^{n})\\right) \\\\\n",
    "& - \\frac{\\Delta t}{2\\Delta y} \\left(p_{i,j+1}^{n}-p_{i,j-1}^{n}\\right) \\\\\n",
    "& + \\frac{1}{Re} \\left(\\frac{\\Delta t}{\\Delta x^2} \\left(v_{i+1,j}^{n}-2v_{i,j}^{n}+v_{i-1,j}^{n}\\right) + \\frac{\\Delta t}{\\Delta y^2} \\left(v_{i,j+1}^{n}-2v_{i,j}^{n}+v_{i,j-1}^{n}\\right)\\right) - \\Delta t c_{i,j}\n",
    "\\end{split}\n",
    "$$\n",
    "\n",
    "Quase lá! Agora, reorganizamos a equação de pressão-Poisson:\n",
    "\n",
    "$$\n",
    "\\begin{split}\n",
    "p_{i,j}^{n} = & \\frac{\\left(p_{i+1,j}^{n}+p_{i-1,j}^{n}\\right) \\Delta y^2 + \\left(p_{i,j+1}^{n}+p_{i,j-1}^{n}\\right) \\Delta x^2}{2\\left(\\Delta x^2+\\Delta y^2\\right)} \\\\\n",
    "& -\\frac{\\Delta x^2\\Delta y^2}{2\\left(\\Delta x^2+\\Delta y^2\\right)} \\\\\n",
    "& \\times \\left[\\frac{1}{\\Delta t}\\left(\\frac{u_{i+1,j}-u_{i-1,j}}{2\\Delta x}+\\frac{v_{i,j+1}-v_{i,j-1}}{2\\Delta y}\\right)-\\frac{u_{i+1,j}-u_{i-1,j}}{2\\Delta x}\\frac{u_{i+1,j}-u_{i-1,j}}{2\\Delta x} -2\\frac{u_{i,j+1}-u_{i,j-1}}{2\\Delta y}\\frac{v_{i+1,j}-v_{i-1,j}}{2\\Delta x}-\\frac{v_{i,j+1}-v_{i,j-1}}{2\\Delta y}\\frac{v_{i,j+1}-v_{i,j-1}}{2\\Delta y}\\right]\n",
    "\\end{split}\n",
    "$$\n",
    "\n",
    "E a equação do transporte de escalar:\n",
    "\n",
    "$$\n",
    "\\begin{split}\n",
    "\\Theta_{i,j}^{n+1} = \\Theta_{i,j}^{n} & - u_{i,j}^{n} \\frac{\\Delta t}{\\Delta x} \\left(\\Theta_{i,j}^{n}-\\Theta_{i-1,j}^{n}\\right) - v_{i,j}^{n} \\frac{\\Delta t}{\\Delta y} \\left(\\Theta_{i,j}^{n}-\\Theta_{i,j-1}^{n})\\right) \\\\\n",
    "& + \\frac{1}{Re ~ Pr} \\left(\\frac{\\Delta t}{\\Delta x^2} \\left(\\Theta_{i+1,j}^{n}-2\\Theta_{i,j}^{n}+\\Theta_{i-1,j}^{n}\\right) + \\frac{\\Delta t}{\\Delta y^2} \\left(\\Theta_{i,j+1}^{n}-2\\Theta_{i,j}^{n}+\\Theta_{i,j-1}^{n}\\right)\\right)\n",
    "\\end{split}\n",
    "$$\n",
    "\n",
    "A condição inicial é $u, v, p = 0 $ em todos os lugares, e as condições de contorno são:\n",
    "\n",
    "$u=1$ em $y=2$ (a \"tampa\");\n",
    "\n",
    "$u, v=0$ nas fronteiras restantes;\n",
    "\n",
    "$\\frac{\\partial p}{\\partial y}=0$ em $y=0$;\n",
    "\n",
    "$p=0$ em $y=2$\n",
    "\n",
    "$\\frac{\\partial p}{\\partial x}=0$ em $x=0$ e $x=2$"
   ]
  },
  {
   "cell_type": "code",
   "execution_count": null,
   "id": "romance-landscape",
   "metadata": {},
   "outputs": [],
   "source": [
    "def cavidade_termica(coordenadas, total_steps, time_step, time_snap, numero_de_reynolds, numero_de_prandtl, richardson_number):\n",
    "    \n",
    "    ux = Campo2d_v3(coordenadas, \"velocidade horizontal\", r\"$u_x$\")\n",
    "    uy = Campo2d_v3(coordenadas, \"velocidade vertical\", r\"$u_y$\")\n",
    "    p = Campo2d_v3(coordenadas, \"pressão\", r\"$p$\")\n",
    "    \n",
    "    theta = Campo2d_v3(coordenadas, \"Temperatura adimensional\", r\"$\\Theta$\")\n",
    "    #theta += 1.0\n",
    "    \n",
    "    for n in tqdm(range(total_steps)):\n",
    "        uxn = ux.copy()\n",
    "        uyn = uy.copy()\n",
    "        thetan = theta.copy()\n",
    "        \n",
    "        p.resolver_poisson(uxn, uyn, dt=time_step)\n",
    "        \n",
    "        p[:,-1] *= 0.0 # p = 0 at y = 2\n",
    "        \n",
    "        ux += time_step * (uxn.convectivo_difusivo(uxn, uyn, diff_coef=numero_de_reynolds) - p.dx)\n",
    "        uy += time_step * (uyn.convectivo_difusivo(uxn, uyn, diff_coef=numero_de_reynolds) - p.dy - richardson_number * thetan)\n",
    "        theta += time_step * thetan.convectivo_difusivo(uxn, uyn, diff_coef=numero_de_reynolds*numero_de_prandtl)\n",
    "        \n",
    "        # Condições de contorno de não deslizamento para velocidade\n",
    "        ux[:,0]  = 0\n",
    "        ux[0,:]  = 0\n",
    "        ux[-1,:] = 0\n",
    "        ux[:,-1] = 1  # Definir velocidade na tampa da cavidade igual a 1\n",
    "        uy[:,0]  = 0\n",
    "        uy[:,-1] = 0\n",
    "        uy[0,:]  = 0\n",
    "        uy[-1,:] = 0\n",
    "        \n",
    "        # Fluxo nulo para concentração\n",
    "        theta[-1,:] = 1\n",
    "        theta[:,0] = 1\n",
    "        theta[0,:] = 1\n",
    "        theta[:,-1] = 0\n",
    "    \n",
    "    return ux, uy, p, theta"
   ]
  },
  {
   "cell_type": "code",
   "execution_count": null,
   "id": "dirty-franklin",
   "metadata": {},
   "outputs": [],
   "source": [
    "coordenadas = Coordenadas2d(\n",
    "    parametros_x = dict(\n",
    "        inicio = 0.0,\n",
    "        final = 2.0,\n",
    "        numero_de_pontos = 21,\n",
    "        nome = \"componente horizontal\",\n",
    "        simbolo = r\"$x$\"\n",
    "    ),\n",
    "    parametros_y = dict(\n",
    "        inicio = 0.0,\n",
    "        final = 2.0,\n",
    "        numero_de_pontos = 21,\n",
    "        nome = \"componente vertical\",\n",
    "        simbolo = r\"$y$\"\n",
    "    ),\n",
    ")\n",
    "\n",
    "ux, uy, p, theta = cavidade_termica(\n",
    "    coordenadas,\n",
    "    total_steps=2000,\n",
    "    time_step=0.001,\n",
    "    time_snap=500,\n",
    "    numero_de_reynolds=100.0,\n",
    "    numero_de_prandtl=1.0,\n",
    "    richardson_number=1.0\n",
    ")"
   ]
  },
  {
   "cell_type": "code",
   "execution_count": null,
   "id": "small-charm",
   "metadata": {},
   "outputs": [],
   "source": [
    "fig = plt.figure(figsize=(11, 7), dpi=100)\n",
    "ax = fig.add_subplot(111)\n",
    "CS = ax.contourf(coordenadas.x, coordenadas.y, theta.T, alpha=0.5, cmap=plt.cm.coolwarm)\n",
    "cbar = fig.colorbar(CS)\n",
    "cbar.ax.set_ylabel(theta.simbolo)\n",
    "ax.contour(coordenadas.x, coordenadas.y, theta.T, cmap=plt.cm.coolwarm)\n",
    "ax.streamplot(coordenadas.x, coordenadas.y, ux.T, uy.T, color='k')\n",
    "ax.set_aspect('equal', 'box')\n",
    "ax.set_xlabel(coordenadas.x.simbolo)\n",
    "ax.set_ylabel(coordenadas.y.simbolo)\n",
    "ax.set_title('Escoamento em Cavidade com Transferência de Calor');"
   ]
  }
 ],
 "metadata": {
  "kernelspec": {
   "display_name": "Python 3",
   "language": "python",
   "name": "python3"
  },
  "language_info": {
   "codemirror_mode": {
    "name": "ipython",
    "version": 3
   },
   "file_extension": ".py",
   "mimetype": "text/x-python",
   "name": "python",
   "nbconvert_exporter": "python",
   "pygments_lexer": "ipython3",
   "version": "3.7.9"
  },
  "toc-autonumbering": true,
  "widgets": {
   "application/vnd.jupyter.widget-state+json": {
    "state": {},
    "version_major": 2,
    "version_minor": 0
   }
  }
 },
 "nbformat": 4,
 "nbformat_minor": 5
}
